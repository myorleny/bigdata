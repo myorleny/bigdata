{
 "cells": [
  {
   "cell_type": "markdown",
   "metadata": {
    "colab_type": "text",
    "id": "FYCK8Y-lTb3O"
   },
   "source": [
    "# Tarea #3 - Big Data\n",
    "\n",
    "María Yorleni Alfaro Alfaro\n"
   ]
  },
  {
   "cell_type": "markdown",
   "metadata": {},
   "source": [
    "# Datos de entrada (5 puntos)\n",
    "Los estudiantes podrán seleccionar un conjunto de datos de su preferencia. Es válido utilizar conjuntos de módulos anteriores aunque se espera que se provea una descripción de los datos, en el estilo que hemos utilizado en asignaciones anteriores. Debe incluir explícitamente cuál es la variable de predicción a utilizar.\n",
    "\n",
    "Para efectos de la tarea se trabajará con el archivo winequality-red.csv (\"Red Wine Quality\" tomado de https://www.kaggle.com/uciml/red-wine-quality-cortez-et-al-2009), el cual contiene datos relevantes de diferentes cosecha de vinos tintos y su calidad (quality: valorado entre 0-10). \n",
    "\n",
    "Esta es la información (en inglés) de las columnas del dataset:\n",
    "\n",
    "### Columns:\n",
    "* <strong>fixed acidity</strong> most acids involved with wine or fixed or nonvolatile (do not evaporate readily).\n",
    "* <strong>volatile acidity</strong> the amount of acetic acid in wine, which at too high of levels can lead to an unpleasant, vinegar taste.\n",
    "* <strong>citric acid</strong> found in small quantities, citric acid can add 'freshness' and flavor to wines.\n",
    "* <strong>residual sugar</strong> the amount of sugar remaining after fermentation stops, it's rare to find wines with less than 1 gram/liter and wines with greater than 45 grams/liter are considered sweet.\n",
    "* <strong>chlorides</strong> the amount of salt in the wine.\n",
    "* <strong>free sulfur dioxide</strong> the free form of SO2 exists in equilibrium between molecular SO2 (as a dissolved gas) and bisulfite ion; it prevents microbial growth and the oxidation of wine.\n",
    "* <strong>total sulfur dioxide</strong> amount of free and bound forms of S02; in low concentrations, SO2 is mostly undetectable in wine, but at free SO2 concentrations over 50 ppm, SO2 becomes evident in the nose and taste of wine\n",
    "* <strong>density</strong> the density of water is close to that of water depending on the percent alcohol and sugar content.\n",
    "* <strong>pH</strong> describes how acidic or basic a wine is on a scale from 0 (very acidic) to 14 (very basic); most wines are between 3-4 on the pH scale.\n",
    "* <strong>sulphates</strong> a wine additive which can contribute to sulfur dioxide gas (S02) levels, wich acts as an antimicrobial and antioxidant.\n",
    "* <strong>alcohol</strong> the percent alcohol content of the wine\n",
    "* <strong>quality</strong> output variable (based on sensory data, score between 0 and 10)\n"
   ]
  },
  {
   "cell_type": "markdown",
   "metadata": {},
   "source": [
    "# Preprocesamiento de datos"
   ]
  },
  {
   "cell_type": "markdown",
   "metadata": {},
   "source": [
    "## Cargado y limpieza de datos de archivo de entrada CSV\n",
    "* Esto implica la definición del \"schema\" y muestras en el notebook que los datos se han cargado exitosamente "
   ]
  },
  {
   "cell_type": "code",
   "execution_count": 20,
   "metadata": {},
   "outputs": [
    {
     "name": "stdout",
     "output_type": "stream",
     "text": [
      "Definición del esquema:\n",
      "root\n",
      " |-- fixed acidity: float (nullable = true)\n",
      " |-- volatile acidity: float (nullable = true)\n",
      " |-- citric acid: float (nullable = true)\n",
      " |-- residual sugar: float (nullable = true)\n",
      " |-- chlorides: float (nullable = true)\n",
      " |-- free sulfur dioxide: float (nullable = true)\n",
      " |-- total sulfur dioxide: float (nullable = true)\n",
      " |-- density: float (nullable = true)\n",
      " |-- pH: float (nullable = true)\n",
      " |-- sulphates: float (nullable = true)\n",
      " |-- alcohol: float (nullable = true)\n",
      " |-- quality: string (nullable = true)\n",
      "\n",
      "Datos cargados exitosamente:\n",
      "+-------------+----------------+-----------+--------------+---------+-------------------+--------------------+-------+----+---------+-------+-------+\n",
      "|fixed acidity|volatile acidity|citric acid|residual sugar|chlorides|free sulfur dioxide|total sulfur dioxide|density|  pH|sulphates|alcohol|quality|\n",
      "+-------------+----------------+-----------+--------------+---------+-------------------+--------------------+-------+----+---------+-------+-------+\n",
      "|          7.4|             0.7|        0.0|           1.9|    0.076|               11.0|                34.0| 0.9978|3.51|     0.56|    9.4|      5|\n",
      "|          7.8|            0.88|        0.0|           2.6|    0.098|               25.0|                67.0| 0.9968| 3.2|     0.68|    9.8|      5|\n",
      "|          7.8|            0.76|       0.04|           2.3|    0.092|               15.0|                54.0|  0.997|3.26|     0.65|    9.8|      5|\n",
      "|         11.2|            0.28|       0.56|           1.9|    0.075|               17.0|                60.0|  0.998|3.16|     0.58|    9.8|      6|\n",
      "|          7.4|             0.7|        0.0|           1.9|    0.076|               11.0|                34.0| 0.9978|3.51|     0.56|    9.4|      5|\n",
      "|          7.4|            0.66|        0.0|           1.8|    0.075|               13.0|                40.0| 0.9978|3.51|     0.56|    9.4|      5|\n",
      "|          7.9|             0.6|       0.06|           1.6|    0.069|               15.0|                59.0| 0.9964| 3.3|     0.46|    9.4|      5|\n",
      "|          7.3|            0.65|        0.0|           1.2|    0.065|               15.0|                21.0| 0.9946|3.39|     0.47|   10.0|      7|\n",
      "|          7.8|            0.58|       0.02|           2.0|    0.073|                9.0|                18.0| 0.9968|3.36|     0.57|    9.5|      7|\n",
      "|          7.5|             0.5|       0.36|           6.1|    0.071|               17.0|               102.0| 0.9978|3.35|      0.8|   10.5|      5|\n",
      "|          6.7|            0.58|       0.08|           1.8|    0.097|               15.0|                65.0| 0.9959|3.28|     0.54|    9.2|      5|\n",
      "|          7.5|             0.5|       0.36|           6.1|    0.071|               17.0|               102.0| 0.9978|3.35|      0.8|   10.5|      5|\n",
      "|          5.6|           0.615|        0.0|           1.6|    0.089|               16.0|                59.0| 0.9943|3.58|     0.52|    9.9|      5|\n",
      "|          7.8|            0.61|       0.29|           1.6|    0.114|                9.0|                29.0| 0.9974|3.26|     1.56|    9.1|      5|\n",
      "|          8.9|            0.62|       0.18|           3.8|    0.176|               52.0|               145.0| 0.9986|3.16|     0.88|    9.2|      5|\n",
      "|          8.9|            0.62|       0.19|           3.9|     0.17|               51.0|               148.0| 0.9986|3.17|     0.93|    9.2|      5|\n",
      "|          8.5|            0.28|       0.56|           1.8|    0.092|               35.0|               103.0| 0.9969| 3.3|     0.75|   10.5|      7|\n",
      "|          8.1|            0.56|       0.28|           1.7|    0.368|               16.0|                56.0| 0.9968|3.11|     1.28|    9.3|      5|\n",
      "|          7.4|            0.59|       0.08|           4.4|    0.086|                6.0|                29.0| 0.9974|3.38|      0.5|    9.0|      4|\n",
      "|          7.9|            0.32|       0.51|           1.8|    0.341|               17.0|                56.0| 0.9969|3.04|     1.08|    9.2|      6|\n",
      "+-------------+----------------+-----------+--------------+---------+-------------------+--------------------+-------+----+---------+-------+-------+\n",
      "only showing top 20 rows\n",
      "\n"
     ]
    }
   ],
   "source": [
    "# Cargar el conjunto de datos completo. Este paso no realiza ningún ajuste; simplemente lectura\n",
    "import findspark\n",
    "findspark.init('/usr/lib/python3.7/site-packages/pyspark')\n",
    "\n",
    "from pyspark.sql.types import (StringType, IntegerType, FloatType, \n",
    "                               DecimalType, StructField, StructType)\n",
    "\n",
    "from pyspark.sql import SparkSession\n",
    "\n",
    "spark = SparkSession \\\n",
    "    .builder \\\n",
    "    .appName(\"Basic JDBC pipeline\") \\\n",
    "    .config(\"spark.driver.extraClassPath\", \"postgresql-42.2.14.jar\") \\\n",
    "    .config(\"spark.executor.extraClassPath\", \"postgresql-42.2.14.jar\") \\\n",
    "    .getOrCreate()\n",
    "\n",
    "df = spark \\\n",
    "    .read \\\n",
    "    .format(\"csv\") \\\n",
    "    .option(\"path\", \"winequality-red.csv\") \\\n",
    "    .option(\"header\", True) \\\n",
    "    .schema(StructType([\n",
    "                StructField(\"fixed acidity\", FloatType()),\n",
    "                StructField(\"volatile acidity\", FloatType()),\n",
    "                StructField(\"citric acid\", FloatType()),\n",
    "                StructField(\"residual sugar\", FloatType()),\n",
    "                StructField(\"chlorides\", FloatType()),\n",
    "                StructField(\"free sulfur dioxide\", FloatType()),\n",
    "                StructField(\"total sulfur dioxide\", FloatType()),\n",
    "                StructField(\"density\", FloatType()),\n",
    "                StructField(\"pH\", FloatType()),\n",
    "                StructField(\"sulphates\", FloatType()),\n",
    "                StructField(\"alcohol\", FloatType()),\n",
    "                StructField(\"quality\", StringType())])) \\\n",
    "    .load()\n",
    "\n",
    "print (\"Definición del esquema:\")\n",
    "df.printSchema()\n",
    "\n",
    "print (\"Datos cargados exitosamente:\")\n",
    "df.show()\n"
   ]
  },
  {
   "cell_type": "code",
   "execution_count": 21,
   "metadata": {
    "colab": {},
    "colab_type": "code",
    "id": "TeCBV1AGTb3X",
    "outputId": "87a92ff5-f247-4a75-e470-8c6e7acf2ad1"
   },
   "outputs": [
    {
     "name": "stdout",
     "output_type": "stream",
     "text": [
      "+-------------+----------------+-----------+--------------+---------+-------------------+--------------------+-------+----+---------+-------+-------+\n",
      "|fixed acidity|volatile acidity|citric acid|residual sugar|chlorides|free sulfur dioxide|total sulfur dioxide|density|  pH|sulphates|alcohol|quality|\n",
      "+-------------+----------------+-----------+--------------+---------+-------------------+--------------------+-------+----+---------+-------+-------+\n",
      "|          7.4|             0.7|        0.0|           1.9|    0.076|               11.0|                34.0| 0.9978|3.51|     0.56|    9.4|      5|\n",
      "|          7.8|            0.88|        0.0|           2.6|    0.098|               25.0|                67.0| 0.9968| 3.2|     0.68|    9.8|      5|\n",
      "|          7.8|            0.76|       0.04|           2.3|    0.092|               15.0|                54.0|  0.997|3.26|     0.65|    9.8|      5|\n",
      "|         11.2|            0.28|       0.56|           1.9|    0.075|               17.0|                60.0|  0.998|3.16|     0.58|    9.8|      6|\n",
      "|          7.4|             0.7|        0.0|           1.9|    0.076|               11.0|                34.0| 0.9978|3.51|     0.56|    9.4|      5|\n",
      "|          7.4|            0.66|        0.0|           1.8|    0.075|               13.0|                40.0| 0.9978|3.51|     0.56|    9.4|      5|\n",
      "|          7.9|             0.6|       0.06|           1.6|    0.069|               15.0|                59.0| 0.9964| 3.3|     0.46|    9.4|      5|\n",
      "|          7.3|            0.65|        0.0|           1.2|    0.065|               15.0|                21.0| 0.9946|3.39|     0.47|   10.0|      7|\n",
      "|          7.8|            0.58|       0.02|           2.0|    0.073|                9.0|                18.0| 0.9968|3.36|     0.57|    9.5|      7|\n",
      "|          7.5|             0.5|       0.36|           6.1|    0.071|               17.0|               102.0| 0.9978|3.35|      0.8|   10.5|      5|\n",
      "|          6.7|            0.58|       0.08|           1.8|    0.097|               15.0|                65.0| 0.9959|3.28|     0.54|    9.2|      5|\n",
      "|          7.5|             0.5|       0.36|           6.1|    0.071|               17.0|               102.0| 0.9978|3.35|      0.8|   10.5|      5|\n",
      "|          5.6|           0.615|        0.0|           1.6|    0.089|               16.0|                59.0| 0.9943|3.58|     0.52|    9.9|      5|\n",
      "|          7.8|            0.61|       0.29|           1.6|    0.114|                9.0|                29.0| 0.9974|3.26|     1.56|    9.1|      5|\n",
      "|          8.9|            0.62|       0.18|           3.8|    0.176|               52.0|               145.0| 0.9986|3.16|     0.88|    9.2|      5|\n",
      "|          8.9|            0.62|       0.19|           3.9|     0.17|               51.0|               148.0| 0.9986|3.17|     0.93|    9.2|      5|\n",
      "|          8.5|            0.28|       0.56|           1.8|    0.092|               35.0|               103.0| 0.9969| 3.3|     0.75|   10.5|      7|\n",
      "|          8.1|            0.56|       0.28|           1.7|    0.368|               16.0|                56.0| 0.9968|3.11|     1.28|    9.3|      5|\n",
      "|          7.4|            0.59|       0.08|           4.4|    0.086|                6.0|                29.0| 0.9974|3.38|      0.5|    9.0|      4|\n",
      "|          7.9|            0.32|       0.51|           1.8|    0.341|               17.0|                56.0| 0.9969|3.04|     1.08|    9.2|      6|\n",
      "+-------------+----------------+-----------+--------------+---------+-------------------+--------------------+-------+----+---------+-------+-------+\n",
      "only showing top 20 rows\n",
      "\n"
     ]
    }
   ],
   "source": [
    "# Seleccionar un subconjunto de las columnas de interés (en este caso se seleccionan todas) y el objectivo que es quality\n",
    "columns_kept = ['fixed acidity','volatile acidity','citric acid','residual sugar','chlorides',\n",
    "                'free sulfur dioxide','total sulfur dioxide','density','pH','sulphates','alcohol','quality']\n",
    "\n",
    "selected_columns_df = df.select(columns_kept)\n",
    "\n",
    "selected_columns_df.show()"
   ]
  },
  {
   "cell_type": "code",
   "execution_count": 22,
   "metadata": {},
   "outputs": [
    {
     "name": "stdout",
     "output_type": "stream",
     "text": [
      "root\n",
      " |-- fixed acidity: float (nullable = true)\n",
      " |-- volatile acidity: float (nullable = true)\n",
      " |-- citric acid: float (nullable = true)\n",
      " |-- residual sugar: float (nullable = true)\n",
      " |-- chlorides: float (nullable = true)\n",
      " |-- free sulfur dioxide: float (nullable = true)\n",
      " |-- total sulfur dioxide: float (nullable = true)\n",
      " |-- density: float (nullable = true)\n",
      " |-- pH: float (nullable = true)\n",
      " |-- sulphates: float (nullable = true)\n",
      " |-- alcohol: float (nullable = true)\n",
      " |-- quality: integer (nullable = true)\n",
      "\n"
     ]
    }
   ],
   "source": [
    "# quantity fue cargada como string. Debe ajustarse a integer.\n",
    "correct_types_df = selected_columns_df \\\n",
    "    .withColumn('quality', selected_columns_df['quality'].cast(IntegerType())) \\\n",
    "\n",
    "correct_types_df.printSchema()"
   ]
  },
  {
   "cell_type": "markdown",
   "metadata": {},
   "source": [
    "## Gráficos y estadísticas descriptivas previo al entrenamiento"
   ]
  },
  {
   "cell_type": "markdown",
   "metadata": {},
   "source": [
    "### Estadísticas descriptivas"
   ]
  },
  {
   "cell_type": "code",
   "execution_count": 23,
   "metadata": {},
   "outputs": [
    {
     "name": "stdout",
     "output_type": "stream",
     "text": [
      "+-------+------------------+-------------------+-------------------+------------------+\n",
      "|summary|     fixed acidity|   volatile acidity|        citric acid|    residual sugar|\n",
      "+-------+------------------+-------------------+-------------------+------------------+\n",
      "|  count|              1599|               1599|               1599|              1599|\n",
      "|   mean|  8.31963727204333| 0.5278205118742565|0.27097560946082344|2.5388054955072743|\n",
      "| stddev|1.7410963179910275|0.17905970357107073|0.19480113735645493|1.4099280590834145|\n",
      "|    min|               4.6|               0.12|                0.0|               0.9|\n",
      "|    max|              15.9|               1.58|                1.0|              15.5|\n",
      "+-------+------------------+-------------------+-------------------+------------------+\n",
      "\n",
      "+-------+-------------------+-------------------+--------------------+--------------------+\n",
      "|summary|          chlorides|free sulfur dioxide|total sulfur dioxide|             density|\n",
      "+-------+-------------------+-------------------+--------------------+--------------------+\n",
      "|  count|               1599|               1599|                1599|                1599|\n",
      "|   mean|0.08746654185244558| 15.874921826141339|   46.46779237023139|  0.9967466800044371|\n",
      "| stddev|0.04706530186883863|  10.46015696980971|   32.89532447829907|0.001887335252223...|\n",
      "|    min|              0.012|                1.0|                 6.0|             0.99007|\n",
      "|    max|              0.611|               72.0|               289.0|             1.00369|\n",
      "+-------+-------------------+-------------------+--------------------+--------------------+\n",
      "\n",
      "+-------+-------------------+-------------------+------------------+------------------+\n",
      "|summary|                 pH|          sulphates|           alcohol|           quality|\n",
      "+-------+-------------------+-------------------+------------------+------------------+\n",
      "|  count|               1599|               1599|              1599|              1599|\n",
      "|   mean| 3.3111131965107585| 0.6581488421292809|10.422983095003262|5.6360225140712945|\n",
      "| stddev|0.15438646318792024|0.16950698014899196|1.0656675859276652|0.8075694397347051|\n",
      "|    min|               2.74|               0.33|               8.4|                 3|\n",
      "|    max|               4.01|                2.0|              14.9|                 8|\n",
      "+-------+-------------------+-------------------+------------------+------------------+\n",
      "\n"
     ]
    }
   ],
   "source": [
    "# Información descriptiva del dataframe.\n",
    "correct_types_df.describe(['fixed acidity','volatile acidity','citric acid','residual sugar']).show()\n",
    "correct_types_df.describe(['chlorides','free sulfur dioxide','total sulfur dioxide','density']).show()\n",
    "correct_types_df.describe(['pH','sulphates','alcohol','quality']).show()\n",
    "\n",
    "#selected_columns_df.describe(['fixed acidity','volatile acidity','citric acid','residual sugar','chlorides',\n",
    "#                'free sulfur dioxide','total sulfur dioxide','density','pH','sulphates','alcohol','quality']).show()\n",
    "  "
   ]
  },
  {
   "cell_type": "markdown",
   "metadata": {},
   "source": [
    "### Histogramas"
   ]
  },
  {
   "cell_type": "code",
   "execution_count": 24,
   "metadata": {},
   "outputs": [
    {
     "name": "stdout",
     "output_type": "stream",
     "text": [
      "Histograma para la columna: fixed acidity\n"
     ]
    },
    {
     "data": {
      "image/png": "[encoded data removed]",
      "text/plain": [
       "<Figure size 432x288 with 1 Axes>"
      ]
     },
     "metadata": {
      "needs_background": "light"
     },
     "output_type": "display_data"
    },
    {
     "name": "stdout",
     "output_type": "stream",
     "text": [
      "Histograma para la columna: volatile acidity\n"
     ]
    },
    {
     "data": {
      "image/png": "[encoded data removed]",
      "text/plain": [
       "<Figure size 432x288 with 1 Axes>"
      ]
     },
     "metadata": {
      "needs_background": "light"
     },
     "output_type": "display_data"
    },
    {
     "name": "stdout",
     "output_type": "stream",
     "text": [
      "Histograma para la columna: citric acid\n"
     ]
    },
    {
     "data": {
      "image/png": "[encoded data removed]",
      "text/plain": [
       "<Figure size 432x288 with 1 Axes>"
      ]
     },
     "metadata": {
      "needs_background": "light"
     },
     "output_type": "display_data"
    },
    {
     "name": "stdout",
     "output_type": "stream",
     "text": [
      "Histograma para la columna: residual sugar\n"
     ]
    },
    {
     "data": {
      "image/png": "[encoded data removed]",
      "text/plain": [
       "<Figure size 432x288 with 1 Axes>"
      ]
     },
     "metadata": {
      "needs_background": "light"
     },
     "output_type": "display_data"
    },
    {
     "name": "stdout",
     "output_type": "stream",
     "text": [
      "Histograma para la columna: chlorides\n"
     ]
    },
    {
     "data": {
      "image/png": "[encoded data removed]",
      "text/plain": [
       "<Figure size 432x288 with 1 Axes>"
      ]
     },
     "metadata": {
      "needs_background": "light"
     },
     "output_type": "display_data"
    },
    {
     "name": "stdout",
     "output_type": "stream",
     "text": [
      "Histograma para la columna: free sulfur dioxide\n"
     ]
    },
    {
     "data": {
      "image/png": "[encoded data removed]",
      "text/plain": [
       "<Figure size 432x288 with 1 Axes>"
      ]
     },
     "metadata": {
      "needs_background": "light"
     },
     "output_type": "display_data"
    },
    {
     "name": "stdout",
     "output_type": "stream",
     "text": [
      "Histograma para la columna: total sulfur dioxide\n"
     ]
    },
    {
     "data": {
      "image/png": "[encoded data removed]",
      "text/plain": [
       "<Figure size 432x288 with 1 Axes>"
      ]
     },
     "metadata": {
      "needs_background": "light"
     },
     "output_type": "display_data"
    },
    {
     "name": "stdout",
     "output_type": "stream",
     "text": [
      "Histograma para la columna: density\n"
     ]
    },
    {
     "data": {
      "image/png": "[encoded data removed]",
      "text/plain": [
       "<Figure size 432x288 with 1 Axes>"
      ]
     },
     "metadata": {
      "needs_background": "light"
     },
     "output_type": "display_data"
    },
    {
     "name": "stdout",
     "output_type": "stream",
     "text": [
      "Histograma para la columna: pH\n"
     ]
    },
    {
     "data": {
      "image/png": "[encoded data removed]",
      "text/plain": [
       "<Figure size 432x288 with 1 Axes>"
      ]
     },
     "metadata": {
      "needs_background": "light"
     },
     "output_type": "display_data"
    },
    {
     "name": "stdout",
     "output_type": "stream",
     "text": [
      "Histograma para la columna: sulphates\n"
     ]
    },
    {
     "data": {
      "image/png": "[encoded data removed]",
      "text/plain": [
       "<Figure size 432x288 with 1 Axes>"
      ]
     },
     "metadata": {
      "needs_background": "light"
     },
     "output_type": "display_data"
    },
    {
     "name": "stdout",
     "output_type": "stream",
     "text": [
      "Histograma para la columna: alcohol\n"
     ]
    },
    {
     "data": {
      "image/png": "[encoded data removed]",
      "text/plain": [
       "<Figure size 432x288 with 1 Axes>"
      ]
     },
     "metadata": {
      "needs_background": "light"
     },
     "output_type": "display_data"
    },
    {
     "name": "stdout",
     "output_type": "stream",
     "text": [
      "Histograma para la columna: quality\n"
     ]
    },
    {
     "data": {
      "image/png": "[encoded data removed]",
      "text/plain": [
       "<Figure size 432x288 with 1 Axes>"
      ]
     },
     "metadata": {
      "needs_background": "light"
     },
     "output_type": "display_data"
    }
   ],
   "source": [
    "import matplotlib.pyplot as plt\n",
    "\n",
    "def HistogramaColumnas(columns, df):\n",
    "    for col in columns:\n",
    "        print(\"Histograma para la columna:\", col)\n",
    "        bins, counts = df.select(col).rdd.flatMap(lambda x: x).histogram(20)\n",
    "        plt.hist(bins[:-1], bins=bins, weights=counts)\n",
    "        plt.show()\n",
    "    \n",
    "HistogramaColumnas(columns_kept, correct_types_df)  "
   ]
  },
  {
   "cell_type": "markdown",
   "metadata": {},
   "source": [
    "### Correlaciones"
   ]
  },
  {
   "cell_type": "code",
   "execution_count": 25,
   "metadata": {},
   "outputs": [
    {
     "name": "stdout",
     "output_type": "stream",
     "text": [
      "+--------------------+-------+\n",
      "|            features|quality|\n",
      "+--------------------+-------+\n",
      "|[7.40000009536743...|      5|\n",
      "|[7.80000019073486...|      5|\n",
      "|[7.80000019073486...|      5|\n",
      "|[11.1999998092651...|      6|\n",
      "|[7.40000009536743...|      5|\n",
      "|[7.40000009536743...|      5|\n",
      "|[7.90000009536743...|      5|\n",
      "|[7.30000019073486...|      7|\n",
      "|[7.80000019073486...|      7|\n",
      "|[7.5,0.5,0.360000...|      5|\n",
      "|[6.69999980926513...|      5|\n",
      "|[7.5,0.5,0.360000...|      5|\n",
      "|[5.59999990463256...|      5|\n",
      "|[7.80000019073486...|      5|\n",
      "|[8.89999961853027...|      5|\n",
      "|[8.89999961853027...|      5|\n",
      "|[8.5,0.2800000011...|      7|\n",
      "|[8.10000038146972...|      5|\n",
      "|[7.40000009536743...|      4|\n",
      "|[7.90000009536743...|      6|\n",
      "+--------------------+-------+\n",
      "only showing top 20 rows\n",
      "\n",
      "Matriz de correlación de Pearson:\n"
     ]
    },
    {
     "data": {
      "text/plain": [
       "<AxesSubplot:>"
      ]
     },
     "execution_count": 25,
     "metadata": {},
     "output_type": "execute_result"
    },
    {
     "data": {
      "image/png": "[encoded data removed]",
      "text/plain": [
       "<Figure size 432x288 with 2 Axes>"
      ]
     },
     "metadata": {
      "needs_background": "light"
     },
     "output_type": "display_data"
    }
   ],
   "source": [
    "# Para realizar operaciones más detalladas es necesario expresar las filas originales en vectores\n",
    "from pyspark.ml.feature import VectorAssembler\n",
    "\n",
    "assembler = VectorAssembler(\n",
    "    inputCols=['fixed acidity','volatile acidity','citric acid','residual sugar','chlorides',\n",
    "               'free sulfur dioxide','total sulfur dioxide','density','pH','sulphates','alcohol'],\n",
    "    outputCol='features')\n",
    "\n",
    "vector_df = assembler.transform(correct_types_df)\n",
    "vector_df = vector_df.select(['features', 'quality'])\n",
    "vector_df.show()\n",
    "\n",
    "# Con la representación de vectores podemos calcular correlaciones\n",
    "from pyspark.ml.stat import Correlation\n",
    "import seaborn as sns\n",
    "import matplotlib.pyplot as plt\n",
    "\n",
    "pearson_matrix = Correlation.corr(vector_df, 'features').collect()[0][0]\n",
    "print(\"Matriz de correlación de Pearson:\")\n",
    "sns.heatmap(pearson_matrix.toArray(), annot=True, fmt=\".2f\", cmap='viridis')\n"
   ]
  },
  {
   "cell_type": "markdown",
   "metadata": {},
   "source": [
    "## Normalización / Estandarización"
   ]
  },
  {
   "cell_type": "code",
   "execution_count": 26,
   "metadata": {
    "colab": {},
    "colab_type": "code",
    "id": "d-15zk2zTb3r",
    "outputId": "2691dd1d-b936-4e4e-c786-b858c0e087e2"
   },
   "outputs": [
    {
     "name": "stdout",
     "output_type": "stream",
     "text": [
      "Datos estandarizados:\n",
      "+--------------------+-------+--------------------+\n",
      "|            features|quality|              scaled|\n",
      "+--------------------+-------+--------------------+\n",
      "|[7.40000009536743...|      5|[4.25019570652240...|\n",
      "|[7.80000019073486...|      5|[4.47993606679665...|\n",
      "|[7.80000019073486...|      5|[4.47993606679665...|\n",
      "|[11.1999998092651...|      6|[6.43272844444832...|\n",
      "|[7.40000009536743...|      5|[4.25019570652240...|\n",
      "|[7.40000009536743...|      5|[4.25019570652240...|\n",
      "|[7.90000009536743...|      5|[4.53737108839727...|\n",
      "|[7.30000019073486...|      7|[4.19276068492178...|\n",
      "|[7.80000019073486...|      7|[4.47993606679665...|\n",
      "|[7.5,0.5,0.360000...|      5|[4.30763072812302...|\n",
      "|[6.69999980926513...|      5|[3.84815000757451...|\n",
      "|[7.5,0.5,0.360000...|      5|[4.30763072812302...|\n",
      "|[5.59999990463256...|      5|[3.21636422222416...|\n",
      "|[7.80000019073486...|      5|[4.47993606679665...|\n",
      "|[8.89999961853027...|      5|[5.11172157827522...|\n",
      "|[8.89999961853027...|      5|[5.11172157827522...|\n",
      "|[8.5,0.2800000011...|      7|[4.88198149187275...|\n",
      "|[8.10000038146972...|      5|[4.65224140547029...|\n",
      "|[7.40000009536743...|      4|[4.25019570652240...|\n",
      "|[7.90000009536743...|      6|[4.53737108839727...|\n",
      "+--------------------+-------+--------------------+\n",
      "only showing top 20 rows\n",
      "\n"
     ]
    }
   ],
   "source": [
    "# Es deseable que los datos se encuentren estandarizados o normalizados, para evitar que la magnitud de ciertos atributos dominen el proceso de entrenamiento. \n",
    "# El módulo pyspark.ml.feature tiene varias alternativas. En este caso se usa StandardScaler.\n",
    "from pyspark.ml.feature import StandardScaler\n",
    "\n",
    "standard_scaler = StandardScaler(inputCol='features', outputCol='scaled')\n",
    "scale_model = standard_scaler.fit(vector_df)\n",
    "\n",
    "scaled_df = scale_model.transform(vector_df)\n",
    "print(\"Datos estandarizados:\")\n",
    "scaled_df.show()"
   ]
  },
  {
   "cell_type": "markdown",
   "metadata": {},
   "source": [
    "## Escritura a base de datos\n"
   ]
  },
  {
   "cell_type": "code",
   "execution_count": 43,
   "metadata": {
    "colab": {},
    "colab_type": "code",
    "id": "-LtTt2AyTb3d",
    "scrolled": true
   },
   "outputs": [
    {
     "ename": "Py4JJavaError",
     "evalue": "An error occurred while calling o1122.save.\n: java.sql.SQLException: No suitable driver\n\tat java.sql/java.sql.DriverManager.getDriver(DriverManager.java:298)\n\tat org.apache.spark.sql.execution.datasources.jdbc.JDBCOptions.$anonfun$driverClass$2(JDBCOptions.scala:108)\n\tat scala.Option.getOrElse(Option.scala:189)\n\tat org.apache.spark.sql.execution.datasources.jdbc.JDBCOptions.<init>(JDBCOptions.scala:108)\n\tat org.apache.spark.sql.execution.datasources.jdbc.JdbcOptionsInWrite.<init>(JDBCOptions.scala:215)\n\tat org.apache.spark.sql.execution.datasources.jdbc.JdbcOptionsInWrite.<init>(JDBCOptions.scala:219)\n\tat org.apache.spark.sql.execution.datasources.jdbc.JdbcRelationProvider.createRelation(JdbcRelationProvider.scala:45)\n\tat org.apache.spark.sql.execution.datasources.SaveIntoDataSourceCommand.run(SaveIntoDataSourceCommand.scala:46)\n\tat org.apache.spark.sql.execution.command.ExecutedCommandExec.sideEffectResult$lzycompute(commands.scala:70)\n\tat org.apache.spark.sql.execution.command.ExecutedCommandExec.sideEffectResult(commands.scala:68)\n\tat org.apache.spark.sql.execution.command.ExecutedCommandExec.doExecute(commands.scala:90)\n\tat org.apache.spark.sql.execution.SparkPlan.$anonfun$execute$1(SparkPlan.scala:180)\n\tat org.apache.spark.sql.execution.SparkPlan.$anonfun$executeQuery$1(SparkPlan.scala:218)\n\tat org.apache.spark.rdd.RDDOperationScope$.withScope(RDDOperationScope.scala:151)\n\tat org.apache.spark.sql.execution.SparkPlan.executeQuery(SparkPlan.scala:215)\n\tat org.apache.spark.sql.execution.SparkPlan.execute(SparkPlan.scala:176)\n\tat org.apache.spark.sql.execution.QueryExecution.toRdd$lzycompute(QueryExecution.scala:132)\n\tat org.apache.spark.sql.execution.QueryExecution.toRdd(QueryExecution.scala:131)\n\tat org.apache.spark.sql.DataFrameWriter.$anonfun$runCommand$1(DataFrameWriter.scala:989)\n\tat org.apache.spark.sql.execution.SQLExecution$.$anonfun$withNewExecutionId$5(SQLExecution.scala:103)\n\tat org.apache.spark.sql.execution.SQLExecution$.withSQLConfPropagated(SQLExecution.scala:163)\n\tat org.apache.spark.sql.execution.SQLExecution$.$anonfun$withNewExecutionId$1(SQLExecution.scala:90)\n\tat org.apache.spark.sql.SparkSession.withActive(SparkSession.scala:772)\n\tat org.apache.spark.sql.execution.SQLExecution$.withNewExecutionId(SQLExecution.scala:64)\n\tat org.apache.spark.sql.DataFrameWriter.runCommand(DataFrameWriter.scala:989)\n\tat org.apache.spark.sql.DataFrameWriter.saveToV1Source(DataFrameWriter.scala:438)\n\tat org.apache.spark.sql.DataFrameWriter.saveInternal(DataFrameWriter.scala:415)\n\tat org.apache.spark.sql.DataFrameWriter.save(DataFrameWriter.scala:301)\n\tat java.base/jdk.internal.reflect.NativeMethodAccessorImpl.invoke0(Native Method)\n\tat java.base/jdk.internal.reflect.NativeMethodAccessorImpl.invoke(NativeMethodAccessorImpl.java:62)\n\tat java.base/jdk.internal.reflect.DelegatingMethodAccessorImpl.invoke(DelegatingMethodAccessorImpl.java:43)\n\tat java.base/java.lang.reflect.Method.invoke(Method.java:564)\n\tat py4j.reflection.MethodInvoker.invoke(MethodInvoker.java:244)\n\tat py4j.reflection.ReflectionEngine.invoke(ReflectionEngine.java:357)\n\tat py4j.Gateway.invoke(Gateway.java:282)\n\tat py4j.commands.AbstractCommand.invokeMethod(AbstractCommand.java:132)\n\tat py4j.commands.CallCommand.execute(CallCommand.java:79)\n\tat py4j.GatewayConnection.run(GatewayConnection.java:238)\n\tat java.base/java.lang.Thread.run(Thread.java:832)\n",
     "output_type": "error",
     "traceback": [
      "\u001b[0;31m---------------------------------------------------------------------------\u001b[0m",
      "\u001b[0;31mPy4JJavaError\u001b[0m                             Traceback (most recent call last)",
      "\u001b[0;32m<ipython-input-43-a017d57b59a3>\u001b[0m in \u001b[0;36m<module>\u001b[0;34m\u001b[0m\n\u001b[1;32m      7\u001b[0m     \u001b[0;34m.\u001b[0m\u001b[0moption\u001b[0m\u001b[0;34m(\u001b[0m\u001b[0;34m\"user\"\u001b[0m\u001b[0;34m,\u001b[0m \u001b[0;34m\"postgres\"\u001b[0m\u001b[0;34m)\u001b[0m\u001b[0;31m \u001b[0m\u001b[0;31m\\\u001b[0m\u001b[0;34m\u001b[0m\u001b[0;34m\u001b[0m\u001b[0m\n\u001b[1;32m      8\u001b[0m     \u001b[0;34m.\u001b[0m\u001b[0moption\u001b[0m\u001b[0;34m(\u001b[0m\u001b[0;34m\"password\"\u001b[0m\u001b[0;34m,\u001b[0m \u001b[0;34m\"testPassword\"\u001b[0m\u001b[0;34m)\u001b[0m\u001b[0;31m \u001b[0m\u001b[0;31m\\\u001b[0m\u001b[0;34m\u001b[0m\u001b[0;34m\u001b[0m\u001b[0m\n\u001b[0;32m----> 9\u001b[0;31m     \u001b[0;34m.\u001b[0m\u001b[0moption\u001b[0m\u001b[0;34m(\u001b[0m\u001b[0;34m\"dbtable\"\u001b[0m\u001b[0;34m,\u001b[0m \u001b[0;34m\"tarea3\"\u001b[0m\u001b[0;34m)\u001b[0m\u001b[0;31m \u001b[0m\u001b[0;31m\\\u001b[0m\u001b[0;34m\u001b[0m\u001b[0;34m\u001b[0m\u001b[0m\n\u001b[0m\u001b[1;32m     10\u001b[0m     \u001b[0;34m.\u001b[0m\u001b[0msave\u001b[0m\u001b[0;34m(\u001b[0m\u001b[0;34m)\u001b[0m\u001b[0;34m\u001b[0m\u001b[0;34m\u001b[0m\u001b[0m\n",
      "\u001b[0;32m/usr/lib/python3.7/site-packages/pyspark/sql/readwriter.py\u001b[0m in \u001b[0;36msave\u001b[0;34m(self, path, format, mode, partitionBy, **options)\u001b[0m\n\u001b[1;32m   1105\u001b[0m             \u001b[0mself\u001b[0m\u001b[0;34m.\u001b[0m\u001b[0mformat\u001b[0m\u001b[0;34m(\u001b[0m\u001b[0mformat\u001b[0m\u001b[0;34m)\u001b[0m\u001b[0;34m\u001b[0m\u001b[0;34m\u001b[0m\u001b[0m\n\u001b[1;32m   1106\u001b[0m         \u001b[0;32mif\u001b[0m \u001b[0mpath\u001b[0m \u001b[0;32mis\u001b[0m \u001b[0;32mNone\u001b[0m\u001b[0;34m:\u001b[0m\u001b[0;34m\u001b[0m\u001b[0;34m\u001b[0m\u001b[0m\n\u001b[0;32m-> 1107\u001b[0;31m             \u001b[0mself\u001b[0m\u001b[0;34m.\u001b[0m\u001b[0m_jwrite\u001b[0m\u001b[0;34m.\u001b[0m\u001b[0msave\u001b[0m\u001b[0;34m(\u001b[0m\u001b[0;34m)\u001b[0m\u001b[0;34m\u001b[0m\u001b[0;34m\u001b[0m\u001b[0m\n\u001b[0m\u001b[1;32m   1108\u001b[0m         \u001b[0;32melse\u001b[0m\u001b[0;34m:\u001b[0m\u001b[0;34m\u001b[0m\u001b[0;34m\u001b[0m\u001b[0m\n\u001b[1;32m   1109\u001b[0m             \u001b[0mself\u001b[0m\u001b[0;34m.\u001b[0m\u001b[0m_jwrite\u001b[0m\u001b[0;34m.\u001b[0m\u001b[0msave\u001b[0m\u001b[0;34m(\u001b[0m\u001b[0mpath\u001b[0m\u001b[0;34m)\u001b[0m\u001b[0;34m\u001b[0m\u001b[0;34m\u001b[0m\u001b[0m\n",
      "\u001b[0;32m/usr/lib/python3.7/site-packages/pyspark/python/lib/py4j-0.10.9-src.zip/py4j/java_gateway.py\u001b[0m in \u001b[0;36m__call__\u001b[0;34m(self, *args)\u001b[0m\n\u001b[1;32m   1303\u001b[0m         \u001b[0manswer\u001b[0m \u001b[0;34m=\u001b[0m \u001b[0mself\u001b[0m\u001b[0;34m.\u001b[0m\u001b[0mgateway_client\u001b[0m\u001b[0;34m.\u001b[0m\u001b[0msend_command\u001b[0m\u001b[0;34m(\u001b[0m\u001b[0mcommand\u001b[0m\u001b[0;34m)\u001b[0m\u001b[0;34m\u001b[0m\u001b[0;34m\u001b[0m\u001b[0m\n\u001b[1;32m   1304\u001b[0m         return_value = get_return_value(\n\u001b[0;32m-> 1305\u001b[0;31m             answer, self.gateway_client, self.target_id, self.name)\n\u001b[0m\u001b[1;32m   1306\u001b[0m \u001b[0;34m\u001b[0m\u001b[0m\n\u001b[1;32m   1307\u001b[0m         \u001b[0;32mfor\u001b[0m \u001b[0mtemp_arg\u001b[0m \u001b[0;32min\u001b[0m \u001b[0mtemp_args\u001b[0m\u001b[0;34m:\u001b[0m\u001b[0;34m\u001b[0m\u001b[0;34m\u001b[0m\u001b[0m\n",
      "\u001b[0;32m/usr/lib/python3.7/site-packages/pyspark/sql/utils.py\u001b[0m in \u001b[0;36mdeco\u001b[0;34m(*a, **kw)\u001b[0m\n\u001b[1;32m    109\u001b[0m     \u001b[0;32mdef\u001b[0m \u001b[0mdeco\u001b[0m\u001b[0;34m(\u001b[0m\u001b[0;34m*\u001b[0m\u001b[0ma\u001b[0m\u001b[0;34m,\u001b[0m \u001b[0;34m**\u001b[0m\u001b[0mkw\u001b[0m\u001b[0;34m)\u001b[0m\u001b[0;34m:\u001b[0m\u001b[0;34m\u001b[0m\u001b[0;34m\u001b[0m\u001b[0m\n\u001b[1;32m    110\u001b[0m         \u001b[0;32mtry\u001b[0m\u001b[0;34m:\u001b[0m\u001b[0;34m\u001b[0m\u001b[0;34m\u001b[0m\u001b[0m\n\u001b[0;32m--> 111\u001b[0;31m             \u001b[0;32mreturn\u001b[0m \u001b[0mf\u001b[0m\u001b[0;34m(\u001b[0m\u001b[0;34m*\u001b[0m\u001b[0ma\u001b[0m\u001b[0;34m,\u001b[0m \u001b[0;34m**\u001b[0m\u001b[0mkw\u001b[0m\u001b[0;34m)\u001b[0m\u001b[0;34m\u001b[0m\u001b[0;34m\u001b[0m\u001b[0m\n\u001b[0m\u001b[1;32m    112\u001b[0m         \u001b[0;32mexcept\u001b[0m \u001b[0mpy4j\u001b[0m\u001b[0;34m.\u001b[0m\u001b[0mprotocol\u001b[0m\u001b[0;34m.\u001b[0m\u001b[0mPy4JJavaError\u001b[0m \u001b[0;32mas\u001b[0m \u001b[0me\u001b[0m\u001b[0;34m:\u001b[0m\u001b[0;34m\u001b[0m\u001b[0;34m\u001b[0m\u001b[0m\n\u001b[1;32m    113\u001b[0m             \u001b[0mconverted\u001b[0m \u001b[0;34m=\u001b[0m \u001b[0mconvert_exception\u001b[0m\u001b[0;34m(\u001b[0m\u001b[0me\u001b[0m\u001b[0;34m.\u001b[0m\u001b[0mjava_exception\u001b[0m\u001b[0;34m)\u001b[0m\u001b[0;34m\u001b[0m\u001b[0;34m\u001b[0m\u001b[0m\n",
      "\u001b[0;32m/usr/lib/python3.7/site-packages/pyspark/python/lib/py4j-0.10.9-src.zip/py4j/protocol.py\u001b[0m in \u001b[0;36mget_return_value\u001b[0;34m(answer, gateway_client, target_id, name)\u001b[0m\n\u001b[1;32m    326\u001b[0m                 raise Py4JJavaError(\n\u001b[1;32m    327\u001b[0m                     \u001b[0;34m\"An error occurred while calling {0}{1}{2}.\\n\"\u001b[0m\u001b[0;34m.\u001b[0m\u001b[0;34m\u001b[0m\u001b[0;34m\u001b[0m\u001b[0m\n\u001b[0;32m--> 328\u001b[0;31m                     format(target_id, \".\", name), value)\n\u001b[0m\u001b[1;32m    329\u001b[0m             \u001b[0;32melse\u001b[0m\u001b[0;34m:\u001b[0m\u001b[0;34m\u001b[0m\u001b[0;34m\u001b[0m\u001b[0m\n\u001b[1;32m    330\u001b[0m                 raise Py4JError(\n",
      "\u001b[0;31mPy4JJavaError\u001b[0m: An error occurred while calling o1122.save.\n: java.sql.SQLException: No suitable driver\n\tat java.sql/java.sql.DriverManager.getDriver(DriverManager.java:298)\n\tat org.apache.spark.sql.execution.datasources.jdbc.JDBCOptions.$anonfun$driverClass$2(JDBCOptions.scala:108)\n\tat scala.Option.getOrElse(Option.scala:189)\n\tat org.apache.spark.sql.execution.datasources.jdbc.JDBCOptions.<init>(JDBCOptions.scala:108)\n\tat org.apache.spark.sql.execution.datasources.jdbc.JdbcOptionsInWrite.<init>(JDBCOptions.scala:215)\n\tat org.apache.spark.sql.execution.datasources.jdbc.JdbcOptionsInWrite.<init>(JDBCOptions.scala:219)\n\tat org.apache.spark.sql.execution.datasources.jdbc.JdbcRelationProvider.createRelation(JdbcRelationProvider.scala:45)\n\tat org.apache.spark.sql.execution.datasources.SaveIntoDataSourceCommand.run(SaveIntoDataSourceCommand.scala:46)\n\tat org.apache.spark.sql.execution.command.ExecutedCommandExec.sideEffectResult$lzycompute(commands.scala:70)\n\tat org.apache.spark.sql.execution.command.ExecutedCommandExec.sideEffectResult(commands.scala:68)\n\tat org.apache.spark.sql.execution.command.ExecutedCommandExec.doExecute(commands.scala:90)\n\tat org.apache.spark.sql.execution.SparkPlan.$anonfun$execute$1(SparkPlan.scala:180)\n\tat org.apache.spark.sql.execution.SparkPlan.$anonfun$executeQuery$1(SparkPlan.scala:218)\n\tat org.apache.spark.rdd.RDDOperationScope$.withScope(RDDOperationScope.scala:151)\n\tat org.apache.spark.sql.execution.SparkPlan.executeQuery(SparkPlan.scala:215)\n\tat org.apache.spark.sql.execution.SparkPlan.execute(SparkPlan.scala:176)\n\tat org.apache.spark.sql.execution.QueryExecution.toRdd$lzycompute(QueryExecution.scala:132)\n\tat org.apache.spark.sql.execution.QueryExecution.toRdd(QueryExecution.scala:131)\n\tat org.apache.spark.sql.DataFrameWriter.$anonfun$runCommand$1(DataFrameWriter.scala:989)\n\tat org.apache.spark.sql.execution.SQLExecution$.$anonfun$withNewExecutionId$5(SQLExecution.scala:103)\n\tat org.apache.spark.sql.execution.SQLExecution$.withSQLConfPropagated(SQLExecution.scala:163)\n\tat org.apache.spark.sql.execution.SQLExecution$.$anonfun$withNewExecutionId$1(SQLExecution.scala:90)\n\tat org.apache.spark.sql.SparkSession.withActive(SparkSession.scala:772)\n\tat org.apache.spark.sql.execution.SQLExecution$.withNewExecutionId(SQLExecution.scala:64)\n\tat org.apache.spark.sql.DataFrameWriter.runCommand(DataFrameWriter.scala:989)\n\tat org.apache.spark.sql.DataFrameWriter.saveToV1Source(DataFrameWriter.scala:438)\n\tat org.apache.spark.sql.DataFrameWriter.saveInternal(DataFrameWriter.scala:415)\n\tat org.apache.spark.sql.DataFrameWriter.save(DataFrameWriter.scala:301)\n\tat java.base/jdk.internal.reflect.NativeMethodAccessorImpl.invoke0(Native Method)\n\tat java.base/jdk.internal.reflect.NativeMethodAccessorImpl.invoke(NativeMethodAccessorImpl.java:62)\n\tat java.base/jdk.internal.reflect.DelegatingMethodAccessorImpl.invoke(DelegatingMethodAccessorImpl.java:43)\n\tat java.base/java.lang.reflect.Method.invoke(Method.java:564)\n\tat py4j.reflection.MethodInvoker.invoke(MethodInvoker.java:244)\n\tat py4j.reflection.ReflectionEngine.invoke(ReflectionEngine.java:357)\n\tat py4j.Gateway.invoke(Gateway.java:282)\n\tat py4j.commands.AbstractCommand.invokeMethod(AbstractCommand.java:132)\n\tat py4j.commands.CallCommand.execute(CallCommand.java:79)\n\tat py4j.GatewayConnection.run(GatewayConnection.java:238)\n\tat java.base/java.lang.Thread.run(Thread.java:832)\n"
     ]
    }
   ],
   "source": [
    "# Una vez que los datos fueron depurados se procede a escribir el conjunto de datos que se utilizará como base para el entrenamiento, a una tabla llamada tarea3 (con overwrite).\n",
    "correct_types_df \\\n",
    "    .write \\\n",
    "    .mode(\"overwrite\") \\\n",
    "    .format(\"jdbc\") \\\n",
    "    .option(\"url\", \"jdbc:postgresql://host.docker.internal:5433/postgres\") \\\n",
    "    .option(\"user\", \"postgres\") \\\n",
    "    .option(\"password\", \"testPassword\") \\\n",
    "    .option(\"dbtable\", \"tarea3\") \\\n",
    "    .save()"
   ]
  },
  {
   "cell_type": "markdown",
   "metadata": {},
   "source": [
    "# Entrenamiento de modelos (30 puntos)\n",
    "Se deberá cargar de la base de datos el conjunto de datos limpio y se deberá entrenar dos modelos de clasificación (a escoger por los estudiantes). Se espera que se utilice el protocolo estándar de k-fold cross validation además de dejar un conjunto adicional para validación final.\n",
    "* Uso de Protocolo K-fold cross validation, apoyándose en funciones Spark (10 puntos)\n",
    "* Entrenamiento de dos modelos (10 cada uno)\n",
    ">* En este rubro se incluye mostrar las métricas arrojadas sobre el conjunto de datos de entrenamiento (en la siguiente sección se evalúa el conjunto de validación)"
   ]
  },
  {
   "cell_type": "markdown",
   "metadata": {
    "colab_type": "text",
    "id": "93Fc2KNTTb3f"
   },
   "source": [
    "### Carga de datos limpio desde la tabla \"tarea3\" de datos desde la base de datos al dataframe \"df\":\n",
    "El objetivo de df es poder tener los datos completos limpios, agregarles una columna \"features\" (vectorizada) y una columna \"scaled\" (estandarizada) para entrenamiento posterior de modelos."
   ]
  },
  {
   "cell_type": "code",
   "execution_count": 38,
   "metadata": {
    "colab": {},
    "colab_type": "code",
    "id": "5II3C8K8Tb3g",
    "outputId": "6b22d1ec-2fd8-45e3-b4fb-b590ddedbc39",
    "scrolled": false
   },
   "outputs": [
    {
     "ename": "Py4JJavaError",
     "evalue": "An error occurred while calling o1082.load.\n: java.sql.SQLException: No suitable driver\n\tat java.sql/java.sql.DriverManager.getDriver(DriverManager.java:298)\n\tat org.apache.spark.sql.execution.datasources.jdbc.JDBCOptions.$anonfun$driverClass$2(JDBCOptions.scala:108)\n\tat scala.Option.getOrElse(Option.scala:189)\n\tat org.apache.spark.sql.execution.datasources.jdbc.JDBCOptions.<init>(JDBCOptions.scala:108)\n\tat org.apache.spark.sql.execution.datasources.jdbc.JDBCOptions.<init>(JDBCOptions.scala:38)\n\tat org.apache.spark.sql.execution.datasources.jdbc.JdbcRelationProvider.createRelation(JdbcRelationProvider.scala:32)\n\tat org.apache.spark.sql.execution.datasources.DataSource.resolveRelation(DataSource.scala:354)\n\tat org.apache.spark.sql.DataFrameReader.loadV1Source(DataFrameReader.scala:326)\n\tat org.apache.spark.sql.DataFrameReader.$anonfun$load$3(DataFrameReader.scala:308)\n\tat scala.Option.getOrElse(Option.scala:189)\n\tat org.apache.spark.sql.DataFrameReader.load(DataFrameReader.scala:308)\n\tat org.apache.spark.sql.DataFrameReader.load(DataFrameReader.scala:226)\n\tat java.base/jdk.internal.reflect.NativeMethodAccessorImpl.invoke0(Native Method)\n\tat java.base/jdk.internal.reflect.NativeMethodAccessorImpl.invoke(NativeMethodAccessorImpl.java:62)\n\tat java.base/jdk.internal.reflect.DelegatingMethodAccessorImpl.invoke(DelegatingMethodAccessorImpl.java:43)\n\tat java.base/java.lang.reflect.Method.invoke(Method.java:564)\n\tat py4j.reflection.MethodInvoker.invoke(MethodInvoker.java:244)\n\tat py4j.reflection.ReflectionEngine.invoke(ReflectionEngine.java:357)\n\tat py4j.Gateway.invoke(Gateway.java:282)\n\tat py4j.commands.AbstractCommand.invokeMethod(AbstractCommand.java:132)\n\tat py4j.commands.CallCommand.execute(CallCommand.java:79)\n\tat py4j.GatewayConnection.run(GatewayConnection.java:238)\n\tat java.base/java.lang.Thread.run(Thread.java:832)\n",
     "output_type": "error",
     "traceback": [
      "\u001b[0;31m---------------------------------------------------------------------------\u001b[0m",
      "\u001b[0;31mPy4JJavaError\u001b[0m                             Traceback (most recent call last)",
      "\u001b[0;32m<ipython-input-38-3e00f2cd171f>\u001b[0m in \u001b[0;36m<module>\u001b[0;34m\u001b[0m\n\u001b[1;32m      8\u001b[0m     \u001b[0;34m.\u001b[0m\u001b[0moption\u001b[0m\u001b[0;34m(\u001b[0m\u001b[0;34m\"user\"\u001b[0m\u001b[0;34m,\u001b[0m \u001b[0;34m\"postgres\"\u001b[0m\u001b[0;34m)\u001b[0m\u001b[0;31m \u001b[0m\u001b[0;31m\\\u001b[0m\u001b[0;34m\u001b[0m\u001b[0;34m\u001b[0m\u001b[0m\n\u001b[1;32m      9\u001b[0m     \u001b[0;34m.\u001b[0m\u001b[0moption\u001b[0m\u001b[0;34m(\u001b[0m\u001b[0;34m\"password\"\u001b[0m\u001b[0;34m,\u001b[0m \u001b[0;34m\"testPassword\"\u001b[0m\u001b[0;34m)\u001b[0m\u001b[0;31m \u001b[0m\u001b[0;31m\\\u001b[0m\u001b[0;34m\u001b[0m\u001b[0;34m\u001b[0m\u001b[0m\n\u001b[0;32m---> 10\u001b[0;31m     \u001b[0;34m.\u001b[0m\u001b[0moption\u001b[0m\u001b[0;34m(\u001b[0m\u001b[0;34m\"dbtable\"\u001b[0m\u001b[0;34m,\u001b[0m \u001b[0;34m\"tarea3\"\u001b[0m\u001b[0;34m)\u001b[0m\u001b[0;31m \u001b[0m\u001b[0;31m\\\u001b[0m\u001b[0;34m\u001b[0m\u001b[0;34m\u001b[0m\u001b[0m\n\u001b[0m\u001b[1;32m     11\u001b[0m     \u001b[0;34m.\u001b[0m\u001b[0mload\u001b[0m\u001b[0;34m(\u001b[0m\u001b[0;34m)\u001b[0m\u001b[0;34m\u001b[0m\u001b[0;34m\u001b[0m\u001b[0m\n\u001b[1;32m     12\u001b[0m \u001b[0;34m\u001b[0m\u001b[0m\n",
      "\u001b[0;32m/usr/lib/python3.7/site-packages/pyspark/sql/readwriter.py\u001b[0m in \u001b[0;36mload\u001b[0;34m(self, path, format, schema, **options)\u001b[0m\n\u001b[1;32m    208\u001b[0m             \u001b[0;32mreturn\u001b[0m \u001b[0mself\u001b[0m\u001b[0;34m.\u001b[0m\u001b[0m_df\u001b[0m\u001b[0;34m(\u001b[0m\u001b[0mself\u001b[0m\u001b[0;34m.\u001b[0m\u001b[0m_jreader\u001b[0m\u001b[0;34m.\u001b[0m\u001b[0mload\u001b[0m\u001b[0;34m(\u001b[0m\u001b[0mself\u001b[0m\u001b[0;34m.\u001b[0m\u001b[0m_spark\u001b[0m\u001b[0;34m.\u001b[0m\u001b[0m_sc\u001b[0m\u001b[0;34m.\u001b[0m\u001b[0m_jvm\u001b[0m\u001b[0;34m.\u001b[0m\u001b[0mPythonUtils\u001b[0m\u001b[0;34m.\u001b[0m\u001b[0mtoSeq\u001b[0m\u001b[0;34m(\u001b[0m\u001b[0mpath\u001b[0m\u001b[0;34m)\u001b[0m\u001b[0;34m)\u001b[0m\u001b[0;34m)\u001b[0m\u001b[0;34m\u001b[0m\u001b[0;34m\u001b[0m\u001b[0m\n\u001b[1;32m    209\u001b[0m         \u001b[0;32melse\u001b[0m\u001b[0;34m:\u001b[0m\u001b[0;34m\u001b[0m\u001b[0;34m\u001b[0m\u001b[0m\n\u001b[0;32m--> 210\u001b[0;31m             \u001b[0;32mreturn\u001b[0m \u001b[0mself\u001b[0m\u001b[0;34m.\u001b[0m\u001b[0m_df\u001b[0m\u001b[0;34m(\u001b[0m\u001b[0mself\u001b[0m\u001b[0;34m.\u001b[0m\u001b[0m_jreader\u001b[0m\u001b[0;34m.\u001b[0m\u001b[0mload\u001b[0m\u001b[0;34m(\u001b[0m\u001b[0;34m)\u001b[0m\u001b[0;34m)\u001b[0m\u001b[0;34m\u001b[0m\u001b[0;34m\u001b[0m\u001b[0m\n\u001b[0m\u001b[1;32m    211\u001b[0m \u001b[0;34m\u001b[0m\u001b[0m\n\u001b[1;32m    212\u001b[0m     def json(self, path, schema=None, primitivesAsString=None, prefersDecimal=None,\n",
      "\u001b[0;32m/usr/lib/python3.7/site-packages/pyspark/python/lib/py4j-0.10.9-src.zip/py4j/java_gateway.py\u001b[0m in \u001b[0;36m__call__\u001b[0;34m(self, *args)\u001b[0m\n\u001b[1;32m   1303\u001b[0m         \u001b[0manswer\u001b[0m \u001b[0;34m=\u001b[0m \u001b[0mself\u001b[0m\u001b[0;34m.\u001b[0m\u001b[0mgateway_client\u001b[0m\u001b[0;34m.\u001b[0m\u001b[0msend_command\u001b[0m\u001b[0;34m(\u001b[0m\u001b[0mcommand\u001b[0m\u001b[0;34m)\u001b[0m\u001b[0;34m\u001b[0m\u001b[0;34m\u001b[0m\u001b[0m\n\u001b[1;32m   1304\u001b[0m         return_value = get_return_value(\n\u001b[0;32m-> 1305\u001b[0;31m             answer, self.gateway_client, self.target_id, self.name)\n\u001b[0m\u001b[1;32m   1306\u001b[0m \u001b[0;34m\u001b[0m\u001b[0m\n\u001b[1;32m   1307\u001b[0m         \u001b[0;32mfor\u001b[0m \u001b[0mtemp_arg\u001b[0m \u001b[0;32min\u001b[0m \u001b[0mtemp_args\u001b[0m\u001b[0;34m:\u001b[0m\u001b[0;34m\u001b[0m\u001b[0;34m\u001b[0m\u001b[0m\n",
      "\u001b[0;32m/usr/lib/python3.7/site-packages/pyspark/sql/utils.py\u001b[0m in \u001b[0;36mdeco\u001b[0;34m(*a, **kw)\u001b[0m\n\u001b[1;32m    109\u001b[0m     \u001b[0;32mdef\u001b[0m \u001b[0mdeco\u001b[0m\u001b[0;34m(\u001b[0m\u001b[0;34m*\u001b[0m\u001b[0ma\u001b[0m\u001b[0;34m,\u001b[0m \u001b[0;34m**\u001b[0m\u001b[0mkw\u001b[0m\u001b[0;34m)\u001b[0m\u001b[0;34m:\u001b[0m\u001b[0;34m\u001b[0m\u001b[0;34m\u001b[0m\u001b[0m\n\u001b[1;32m    110\u001b[0m         \u001b[0;32mtry\u001b[0m\u001b[0;34m:\u001b[0m\u001b[0;34m\u001b[0m\u001b[0;34m\u001b[0m\u001b[0m\n\u001b[0;32m--> 111\u001b[0;31m             \u001b[0;32mreturn\u001b[0m \u001b[0mf\u001b[0m\u001b[0;34m(\u001b[0m\u001b[0;34m*\u001b[0m\u001b[0ma\u001b[0m\u001b[0;34m,\u001b[0m \u001b[0;34m**\u001b[0m\u001b[0mkw\u001b[0m\u001b[0;34m)\u001b[0m\u001b[0;34m\u001b[0m\u001b[0;34m\u001b[0m\u001b[0m\n\u001b[0m\u001b[1;32m    112\u001b[0m         \u001b[0;32mexcept\u001b[0m \u001b[0mpy4j\u001b[0m\u001b[0;34m.\u001b[0m\u001b[0mprotocol\u001b[0m\u001b[0;34m.\u001b[0m\u001b[0mPy4JJavaError\u001b[0m \u001b[0;32mas\u001b[0m \u001b[0me\u001b[0m\u001b[0;34m:\u001b[0m\u001b[0;34m\u001b[0m\u001b[0;34m\u001b[0m\u001b[0m\n\u001b[1;32m    113\u001b[0m             \u001b[0mconverted\u001b[0m \u001b[0;34m=\u001b[0m \u001b[0mconvert_exception\u001b[0m\u001b[0;34m(\u001b[0m\u001b[0me\u001b[0m\u001b[0;34m.\u001b[0m\u001b[0mjava_exception\u001b[0m\u001b[0;34m)\u001b[0m\u001b[0;34m\u001b[0m\u001b[0;34m\u001b[0m\u001b[0m\n",
      "\u001b[0;32m/usr/lib/python3.7/site-packages/pyspark/python/lib/py4j-0.10.9-src.zip/py4j/protocol.py\u001b[0m in \u001b[0;36mget_return_value\u001b[0;34m(answer, gateway_client, target_id, name)\u001b[0m\n\u001b[1;32m    326\u001b[0m                 raise Py4JJavaError(\n\u001b[1;32m    327\u001b[0m                     \u001b[0;34m\"An error occurred while calling {0}{1}{2}.\\n\"\u001b[0m\u001b[0;34m.\u001b[0m\u001b[0;34m\u001b[0m\u001b[0;34m\u001b[0m\u001b[0m\n\u001b[0;32m--> 328\u001b[0;31m                     format(target_id, \".\", name), value)\n\u001b[0m\u001b[1;32m    329\u001b[0m             \u001b[0;32melse\u001b[0m\u001b[0;34m:\u001b[0m\u001b[0;34m\u001b[0m\u001b[0;34m\u001b[0m\u001b[0m\n\u001b[1;32m    330\u001b[0m                 raise Py4JError(\n",
      "\u001b[0;31mPy4JJavaError\u001b[0m: An error occurred while calling o1082.load.\n: java.sql.SQLException: No suitable driver\n\tat java.sql/java.sql.DriverManager.getDriver(DriverManager.java:298)\n\tat org.apache.spark.sql.execution.datasources.jdbc.JDBCOptions.$anonfun$driverClass$2(JDBCOptions.scala:108)\n\tat scala.Option.getOrElse(Option.scala:189)\n\tat org.apache.spark.sql.execution.datasources.jdbc.JDBCOptions.<init>(JDBCOptions.scala:108)\n\tat org.apache.spark.sql.execution.datasources.jdbc.JDBCOptions.<init>(JDBCOptions.scala:38)\n\tat org.apache.spark.sql.execution.datasources.jdbc.JdbcRelationProvider.createRelation(JdbcRelationProvider.scala:32)\n\tat org.apache.spark.sql.execution.datasources.DataSource.resolveRelation(DataSource.scala:354)\n\tat org.apache.spark.sql.DataFrameReader.loadV1Source(DataFrameReader.scala:326)\n\tat org.apache.spark.sql.DataFrameReader.$anonfun$load$3(DataFrameReader.scala:308)\n\tat scala.Option.getOrElse(Option.scala:189)\n\tat org.apache.spark.sql.DataFrameReader.load(DataFrameReader.scala:308)\n\tat org.apache.spark.sql.DataFrameReader.load(DataFrameReader.scala:226)\n\tat java.base/jdk.internal.reflect.NativeMethodAccessorImpl.invoke0(Native Method)\n\tat java.base/jdk.internal.reflect.NativeMethodAccessorImpl.invoke(NativeMethodAccessorImpl.java:62)\n\tat java.base/jdk.internal.reflect.DelegatingMethodAccessorImpl.invoke(DelegatingMethodAccessorImpl.java:43)\n\tat java.base/java.lang.reflect.Method.invoke(Method.java:564)\n\tat py4j.reflection.MethodInvoker.invoke(MethodInvoker.java:244)\n\tat py4j.reflection.ReflectionEngine.invoke(ReflectionEngine.java:357)\n\tat py4j.Gateway.invoke(Gateway.java:282)\n\tat py4j.commands.AbstractCommand.invokeMethod(AbstractCommand.java:132)\n\tat py4j.commands.CallCommand.execute(CallCommand.java:79)\n\tat py4j.GatewayConnection.run(GatewayConnection.java:238)\n\tat java.base/java.lang.Thread.run(Thread.java:832)\n"
     ]
    }
   ],
   "source": [
    "# Cargar el conjunto de datos. Esta vez desde la base de datos\n",
    "\n",
    "# Reading single DataFrame in Spark by retrieving all rows from a DB table.\n",
    "df = spark \\\n",
    "    .read \\\n",
    "    .format(\"jdbc\") \\\n",
    "    .option(\"url\", \"jdbc:postgresql://host.docker.internal:5433/postgres\") \\\n",
    "    .option(\"user\", \"postgres\") \\\n",
    "    .option(\"password\", \"testPassword\") \\\n",
    "    .option(\"dbtable\", \"tarea3\") \\\n",
    "    .load()\n",
    "\n",
    "df.show()\n",
    "\n",
    "# Una vez que se leen los datos en df, se le agregan a df las columnas features y scaled para entrenar modelos.\n",
    "# Agregar columna features al dataframe df\n",
    "#df = assembler.transform(df)\n",
    "#df = scale_model.transform(df)\n",
    "\n",
    "#df.show()"
   ]
  },
  {
   "cell_type": "markdown",
   "metadata": {},
   "source": [
    "### Separación de los datos obtenidos desde tabla \"tarea3\" para entrenamiento y prueba\n",
    "* 80% para entrenamiento (train)\n",
    "* 20% para prueba (test)"
   ]
  },
  {
   "cell_type": "code",
   "execution_count": 36,
   "metadata": {},
   "outputs": [
    {
     "ename": "NameError",
     "evalue": "name 'col' is not defined",
     "output_type": "error",
     "traceback": [
      "\u001b[0;31m---------------------------------------------------------------------------\u001b[0m",
      "\u001b[0;31mNameError\u001b[0m                                 Traceback (most recent call last)",
      "\u001b[0;32m<ipython-input-36-2db7779ff9e1>\u001b[0m in \u001b[0;36m<module>\u001b[0;34m\u001b[0m\n\u001b[1;32m      3\u001b[0m df_new = df.select('fixed acidity','volatile acidity','citric acid','residual sugar','chlorides',\n\u001b[1;32m      4\u001b[0m                \u001b[0;34m'free sulfur dioxide'\u001b[0m\u001b[0;34m,\u001b[0m\u001b[0;34m'total sulfur dioxide'\u001b[0m\u001b[0;34m,\u001b[0m\u001b[0;34m'density'\u001b[0m\u001b[0;34m,\u001b[0m\u001b[0;34m'pH'\u001b[0m\u001b[0;34m,\u001b[0m\u001b[0;34m'sulphates'\u001b[0m\u001b[0;34m,\u001b[0m\u001b[0;34m\u001b[0m\u001b[0;34m\u001b[0m\u001b[0m\n\u001b[0;32m----> 5\u001b[0;31m                'alcohol','quality', col(\"scaled\").alias(\"features\"), col(\"quality\").alias(\"label\"))\n\u001b[0m\u001b[1;32m      6\u001b[0m \u001b[0;34m\u001b[0m\u001b[0m\n\u001b[1;32m      7\u001b[0m \u001b[0;31m# Separa los datos del dataframe en dos nuevos datasets para entrenamiento y prueba\u001b[0m\u001b[0;34m\u001b[0m\u001b[0;34m\u001b[0m\u001b[0;34m\u001b[0m\u001b[0m\n",
      "\u001b[0;31mNameError\u001b[0m: name 'col' is not defined"
     ]
    }
   ],
   "source": [
    "# Genera un dataframe nuevo con una columna \"features\" (a partir de los datos estandarizados de columna scaled) \n",
    "# y otra columna \"label\" (a partir de quality)\n",
    "df_new = df.select('fixed acidity','volatile acidity','citric acid','residual sugar','chlorides',\n",
    "               'free sulfur dioxide','total sulfur dioxide','density','pH','sulphates',\n",
    "               'alcohol','quality', col(\"scaled\").alias(\"features\"), col(\"quality\").alias(\"label\"))\n",
    "\n",
    "# Separa los datos del dataframe en dos nuevos datasets para entrenamiento y prueba\n",
    "train, test = df_new.randomSplit([0.8, 0.2], seed=12345)\n"
   ]
  },
  {
   "cell_type": "markdown",
   "metadata": {},
   "source": [
    "## Protocolo K-fold cross validation (10 puntos)\n",
    "* Uso de Protocolo K-fold cross validation, apoyándose en funciones Spark."
   ]
  },
  {
   "cell_type": "code",
   "execution_count": 12,
   "metadata": {},
   "outputs": [
    {
     "name": "stdout",
     "output_type": "stream",
     "text": [
      "------------------------------------------------------------------------------\n",
      "ENTRENAMIENTO: Métricas del mejor modelo obtenido con K-fold Cross Validation\n",
      "------------------------------------------------------------------------------\n",
      " - RSME: 0.652165227123295\n",
      " - r2: 0.3538490414055646\n",
      " - Total de Iteraciones: 6\n",
      " - Historial de Cada Iteración: [0.4995996797437906, 0.46667980921305235, 0.3412695619989176, 0.3387996984310372, 0.33737901638538303, 0.3361376200174561]\n",
      "------------------------------------------------------------------------------\n",
      "PRUEBA: Métricas del mejor modelo obtenido con K-fold Cross Validation\n",
      "------------------------------------------------------------------------------\n",
      " - RSME: 0.6326914868902647\n",
      " - r2: 0.3618686116812212\n",
      "------------------------------------------------------------------------------\n",
      "PREDICCIÓN: Del mejor modelo obtenido con K-fold Cross Validation\n",
      "------------------------------------------------------------------------------\n",
      "+--------------------+-----+------------------+\n",
      "|            features|label|        prediction|\n",
      "+--------------------+-----+------------------+\n",
      "|[2.87175381874868...|    6| 6.657115730657257|\n",
      "|[2.87175381874868...|    4| 4.982952980073055|\n",
      "|[2.87175381874868...|    5|5.3110911398087115|\n",
      "|[2.98662386194991...|    6| 6.937852591353595|\n",
      "|[2.98662386194991...|    7| 6.028237894721151|\n",
      "|[2.98662386194991...|    6| 5.998103195383868|\n",
      "|[3.21636422222416...|    5| 6.191465184355264|\n",
      "|[3.21636422222416...|    5| 6.170085944973394|\n",
      "|[3.21636422222416...|    5| 5.540672981842693|\n",
      "|[3.3886695608978,...|    6| 6.370085692766313|\n",
      "|[3.3886695608978,...|    6|5.8756775470534155|\n",
      "|[3.44610458249841...|    6|5.9994866711880785|\n",
      "|[3.50353960409903...|    5| 5.537814113770059|\n",
      "|[3.50353960409903...|    5| 6.129209097245113|\n",
      "|[3.50353960409903...|    5| 5.440576472161709|\n",
      "|[3.50353960409903...|    6| 5.603800372975039|\n",
      "|[3.50353960409903...|    6| 5.819230793867323|\n",
      "|[3.56097462569964...|    6| 6.038457799762863|\n",
      "|[3.56097462569964...|    5|5.9063486215895775|\n",
      "|[3.56097462569964...|    5| 5.516983302809049|\n",
      "+--------------------+-----+------------------+\n",
      "only showing top 20 rows\n",
      "\n"
     ]
    }
   ],
   "source": [
    "from pyspark.ml import Pipeline\n",
    "from pyspark.ml.linalg import Vectors\n",
    "from pyspark.ml.evaluation import RegressionEvaluator\n",
    "from pyspark.ml.regression import LinearRegression\n",
    "from pyspark.ml.tuning import CrossValidator, ParamGridBuilder\n",
    "\n",
    "lr = LinearRegression(maxIter=5, solver=\"l-bfgs\") \n",
    "\n",
    "modelEvaluator=RegressionEvaluator()\n",
    "pipeline = Pipeline(stages=[lr])\n",
    "paramGrid = ParamGridBuilder().addGrid(lr.regParam, [0.1, 0.01]).addGrid(lr.elasticNetParam, [0, 1]).build()\n",
    "\n",
    "crossval = CrossValidator(estimator=lr,\n",
    "                          estimatorParamMaps=paramGrid,\n",
    "                          evaluator=modelEvaluator,\n",
    "                          numFolds=3)\n",
    "\n",
    "cvModel = crossval.fit(train)\n",
    "\n",
    "trainingSummary = cvModel.bestModel.summary\n",
    "\n",
    "print(\"------------------------------------------------------------------------------\")\n",
    "print(\"ENTRENAMIENTO: Métricas del mejor modelo obtenido con K-fold Cross Validation\")\n",
    "print(\"------------------------------------------------------------------------------\")\n",
    "print(\" - RSME:\", trainingSummary.rootMeanSquaredError)\n",
    "print(\" - r2:\", trainingSummary.r2)\n",
    "print(\" - Total de Iteraciones:\", trainingSummary.totalIterations)\n",
    "print(\" - Historial de Cada Iteración:\", trainingSummary.objectiveHistory)\n",
    "\n",
    "print(\"------------------------------------------------------------------------------\")\n",
    "print(\"PRUEBA: Métricas del mejor modelo obtenido con K-fold Cross Validation\")\n",
    "print(\"------------------------------------------------------------------------------\")\n",
    "\n",
    "eval_rmse = RegressionEvaluator(metricName=\"rmse\")\n",
    "eval_r2 = RegressionEvaluator(metricName=\"r2\")\n",
    "\n",
    "print(\" - RSME:\", eval_rmse.evaluate(cvModel.transform(test)))\n",
    "print(\" - r2:\", eval_r2.evaluate(cvModel.transform(test)))\n",
    "\n",
    "print(\"------------------------------------------------------------------------------\")\n",
    "print(\"PREDICCIÓN: Del mejor modelo obtenido con K-fold Cross Validation\")\n",
    "print(\"------------------------------------------------------------------------------\")\n",
    "\n",
    "# Make predictions on test documents. cvModel uses the best model found (lrModel).\n",
    "prediction = cvModel.transform(test)\n",
    "prediction.select(\"features\", \"label\", \"prediction\").show()\n",
    "\n",
    "#selected = prediction.select(\"features\", \"label\", \"prediction\")\n",
    "#for row in selected.collect():\n",
    "#    print(row)"
   ]
  },
  {
   "cell_type": "markdown",
   "metadata": {},
   "source": [
    "## Entrenamiento de dos modelos (20 puntos: 10 cada uno)\n",
    "* En este rubro se incluye mostrar las métricas arrojadas sobre el conjunto de datos de entrenamiento (en la siguiente sección se evalúa el conjunto de validación)\n",
    "\n",
    "> * Se entrenarán dos modelos:\n",
    ">>1. LinearRegression - modelo1\n",
    ">>2. DecisionTreeRegressor - modelo2"
   ]
  },
  {
   "cell_type": "markdown",
   "metadata": {},
   "source": [
    "### 1. LinearRegresion - modelo1 (Entrenamiento)  (10 puntos)"
   ]
  },
  {
   "cell_type": "code",
   "execution_count": 13,
   "metadata": {},
   "outputs": [
    {
     "name": "stdout",
     "output_type": "stream",
     "text": [
      "------------------------------------------------------------------------------\n",
      "ENTRENAMIENTO: Métricas del modelo1\n",
      "------------------------------------------------------------------------------\n",
      " - RSME: 0.6505181256465015\n",
      " - r2: 0.3571087436763123\n",
      " - Pesos: [0.029182601633750815,-0.19587252272461342,-0.040202833182292154,0.006468084828234705,-0.08303946520240367,0.058547538447894974,-0.09237257550592663,-0.017703648607837057,-0.054560482300012016,0.15757840954747335,0.3088984156867046]\n",
      " - b: 13.194608221169245\n",
      "\n",
      "Datos descriptivos de variable a predecir: 'quality':\n",
      "+-------+------------------+\n",
      "|summary|             label|\n",
      "+-------+------------------+\n",
      "|  count|              1249|\n",
      "|   mean| 5.626901521216974|\n",
      "| stddev|0.8116421057104586|\n",
      "|    min|                 3|\n",
      "|    max|                 8|\n",
      "+-------+------------------+\n",
      "\n"
     ]
    }
   ],
   "source": [
    "from pyspark.ml.regression import LinearRegression\n",
    "\n",
    "regression = LinearRegression(featuresCol='features', labelCol='label')\n",
    "modelo1 = regression.fit(train)\n",
    "\n",
    "print(\"------------------------------------------------------------------------------\")\n",
    "print(\"ENTRENAMIENTO: Métricas del modelo1\")\n",
    "print(\"------------------------------------------------------------------------------\")\n",
    "print(\" - RSME:\", modelo1.summary.rootMeanSquaredError)\n",
    "print(\" - r2:\", modelo1.summary.r2)\n",
    "print(\" - Pesos:\", modelo1.coefficients)\n",
    "print(\" - b:\", modelo1.intercept)\n",
    "print(\"\\nDatos descriptivos de variable a predecir: 'quality':\")\n",
    "train.describe('label').show()\n"
   ]
  },
  {
   "cell_type": "markdown",
   "metadata": {},
   "source": [
    "### 2. DecisionTreeRegressor - modelo2 (Entrenamiento) (10 puntos)"
   ]
  },
  {
   "cell_type": "code",
   "execution_count": 14,
   "metadata": {},
   "outputs": [
    {
     "name": "stdout",
     "output_type": "stream",
     "text": [
      "------------------------------------------------------------------------------\n",
      "ENTRENAMIENTO: Métricas del modelo2\n",
      "------------------------------------------------------------------------------\n",
      " - Nodos: 239\n",
      " - Profundidad: 8\n",
      "\n",
      "Datos descriptivos de variable a predecir: 'quality':\n",
      "+-------+------------------+\n",
      "|summary|             label|\n",
      "+-------+------------------+\n",
      "|  count|              1249|\n",
      "|   mean| 5.626901521216974|\n",
      "| stddev|0.8116421057104586|\n",
      "|    min|                 3|\n",
      "|    max|                 8|\n",
      "+-------+------------------+\n",
      "\n",
      "\n",
      "Modelo del Árbol de Decisión:\n",
      "DecisionTreeRegressionModel (uid=DecisionTreeRegressor_b6d85283e116) of depth 8 with 239 nodes\n",
      "  If (feature 10 <= 9.876438238670273)\n",
      "   If (feature 9 <= 3.3921906199594956)\n",
      "    If (feature 1 <= 4.1745852778511665)\n",
      "     If (feature 10 <= 9.149194484988122)\n",
      "      If (feature 8 <= 22.89708497511581)\n",
      "       If (feature 2 <= 3.259734512233922)\n",
      "        If (feature 1 <= 4.14666165722681)\n",
      "         If (feature 3 <= 5.567660060722803)\n",
      "          Predict: 5.075\n",
      "         Else (feature 3 > 5.567660060722803)\n",
      "          Predict: 6.0\n",
      "        Else (feature 1 > 4.14666165722681)\n",
      "         Predict: 6.0\n",
      "       Else (feature 2 > 3.259734512233922)\n",
      "        If (feature 0 <= 4.680958779334706)\n",
      "         Predict: 5.0\n",
      "        Else (feature 0 > 4.680958779334706)\n",
      "         Predict: 3.0\n",
      "      Else (feature 8 > 22.89708497511581)\n",
      "       Predict: 6.0\n",
      "     Else (feature 10 > 9.149194484988122)\n",
      "      If (feature 4 <= 2.177825171324235)\n",
      "       If (feature 3 <= 0.88657005720747)\n",
      "        Predict: 7.0\n",
      "       Else (feature 3 > 0.88657005720747)\n",
      "        If (feature 1 <= 3.253104798619937)\n",
      "         If (feature 8 <= 22.05504304127021)\n",
      "          Predict: 5.613636363636363\n",
      "         Else (feature 8 > 22.05504304127021)\n",
      "          Predict: 4.666666666666667\n",
      "        Else (feature 1 > 3.253104798619937)\n",
      "         If (feature 3 <= 1.4362434757661195)\n",
      "          Predict: 4.9523809523809526\n",
      "         Else (feature 3 > 1.4362434757661195)\n",
      "          Predict: 5.4375\n",
      "      Else (feature 4 > 2.177825171324235)\n",
      "       If (feature 1 <= 3.253104798619937)\n",
      "        Predict: 4.0\n",
      "       Else (feature 1 > 3.253104798619937)\n",
      "        Predict: 5.0\n",
      "    Else (feature 1 > 4.1745852778511665)\n",
      "     If (feature 8 <= 21.083454650228113)\n",
      "      If (feature 0 <= 4.278913217322712)\n",
      "       Predict: 6.0\n",
      "      Else (feature 0 > 4.278913217322712)\n",
      "       If (feature 1 <= 5.668500312757532)\n",
      "        Predict: 5.0\n",
      "       Else (feature 1 > 5.668500312757532)\n",
      "        If (feature 3 <= 1.4362434757661195)\n",
      "         Predict: 5.0\n",
      "        Else (feature 3 > 1.4362434757661195)\n",
      "         Predict: 6.0\n",
      "     Else (feature 8 > 21.083454650228113)\n",
      "      If (feature 2 <= 0.28233921243147353)\n",
      "       If (feature 2 <= 0.2310048110404581)\n",
      "        If (feature 1 <= 4.565516299467981)\n",
      "         If (feature 0 <= 3.9343028138472276)\n",
      "          Predict: 3.0\n",
      "         Else (feature 0 > 3.9343028138472276)\n",
      "          Predict: 4.0\n",
      "        Else (feature 1 > 4.565516299467981)\n",
      "         If (feature 4 <= 1.2642009536893233)\n",
      "          Predict: 4.0\n",
      "         Else (feature 4 > 1.2642009536893233)\n",
      "          Predict: 5.0\n",
      "       Else (feature 2 > 0.2310048110404581)\n",
      "        If (feature 0 <= 4.221478195722096)\n",
      "         Predict: 3.0\n",
      "        Else (feature 0 > 4.221478195722096)\n",
      "         Predict: 4.0\n",
      "      Else (feature 2 > 0.28233921243147353)\n",
      "       If (feature 2 <= 1.3603616703281298)\n",
      "        If (feature 0 <= 3.302516891560982)\n",
      "         Predict: 4.0\n",
      "        Else (feature 0 > 3.302516891560982)\n",
      "         If (feature 4 <= 1.3916833851746722)\n",
      "          Predict: 6.0\n",
      "         Else (feature 4 > 1.3916833851746722)\n",
      "          Predict: 5.0\n",
      "       Else (feature 2 > 1.3603616703281298)\n",
      "        Predict: 4.0\n",
      "   Else (feature 9 > 3.3921906199594956)\n",
      "    If (feature 1 <= 1.8708844126489081)\n",
      "     If (feature 9 <= 3.864147662924358)\n",
      "      If (feature 0 <= 6.001965371636027)\n",
      "       Predict: 5.0\n",
      "      Else (feature 0 > 6.001965371636027)\n",
      "       Predict: 6.0\n",
      "     Else (feature 9 > 3.864147662924358)\n",
      "      If (feature 0 <= 7.093231877534883)\n",
      "       If (feature 10 <= 9.243032287651058)\n",
      "        If (feature 7 <= 529.2329505470314)\n",
      "         If (feature 5 <= 2.151019345592987)\n",
      "          Predict: 6.0\n",
      "         Else (feature 5 > 2.151019345592987)\n",
      "          Predict: 5.0\n",
      "        Else (feature 7 > 529.2329505470314)\n",
      "         Predict: 5.0\n",
      "       Else (feature 10 > 9.243032287651058)\n",
      "        If (feature 1 <= 1.8150370881812403)\n",
      "         If (feature 7 <= 528.7905270466624)\n",
      "          Predict: 6.533333333333333\n",
      "         Else (feature 7 > 528.7905270466624)\n",
      "          Predict: 6.0\n",
      "        Else (feature 1 > 1.8150370881812403)\n",
      "         Predict: 8.0\n",
      "      Else (feature 0 > 7.093231877534883)\n",
      "       If (feature 1 <= 1.591647873529522)\n",
      "        Predict: 7.0\n",
      "       Else (feature 1 > 1.591647873529522)\n",
      "        Predict: 8.0\n",
      "    Else (feature 1 > 1.8708844126489081)\n",
      "     If (feature 6 <= 1.9911644295592867)\n",
      "      If (feature 8 <= 22.89708497511581)\n",
      "       If (feature 10 <= 7.92930170800813)\n",
      "        Predict: 3.0\n",
      "       Else (feature 10 > 7.92930170800813)\n",
      "        If (feature 9 <= 5.457002485135888)\n",
      "         If (feature 9 <= 4.041131532058973)\n",
      "          Predict: 5.567251461988304\n",
      "         Else (feature 9 > 4.041131532058973)\n",
      "          Predict: 5.82051282051282\n",
      "        Else (feature 9 > 5.457002485135888)\n",
      "         If (feature 10 <= 8.586167221556563)\n",
      "          Predict: 5.6\n",
      "         Else (feature 10 > 8.586167221556563)\n",
      "          Predict: 5.0\n",
      "      Else (feature 8 > 22.89708497511581)\n",
      "       If (feature 6 <= 0.4103926686877919)\n",
      "        If (feature 0 <= 3.5896922734358503)\n",
      "         Predict: 4.0\n",
      "        Else (feature 0 > 3.5896922734358503)\n",
      "         Predict: 3.0\n",
      "       Else (feature 6 > 0.4103926686877919)\n",
      "        If (feature 9 <= 4.985045442171026)\n",
      "         If (feature 9 <= 3.6871637937897432)\n",
      "          Predict: 5.666666666666667\n",
      "         Else (feature 9 > 3.6871637937897432)\n",
      "          Predict: 4.9523809523809526\n",
      "        Else (feature 9 > 4.985045442171026)\n",
      "         Predict: 6.0\n",
      "     Else (feature 6 > 1.9911644295592867)\n",
      "      If (feature 10 <= 8.867680629545372)\n",
      "       If (feature 5 <= 0.5019045139716969)\n",
      "        Predict: 6.0\n",
      "       Else (feature 5 > 0.5019045139716969)\n",
      "        If (feature 3 <= 9.82319616621884)\n",
      "         If (feature 6 <= 2.2951589989576506)\n",
      "          Predict: 4.625\n",
      "         Else (feature 6 > 2.2951589989576506)\n",
      "          Predict: 5.0\n",
      "        Else (feature 3 > 9.82319616621884)\n",
      "         Predict: 6.0\n",
      "      Else (feature 10 > 8.867680629545372)\n",
      "       If (feature 6 <= 2.507955197536506)\n",
      "        If (feature 6 <= 2.203960628138142)\n",
      "         If (feature 1 <= 2.1501207853303868)\n",
      "          Predict: 5.8\n",
      "         Else (feature 1 > 2.1501207853303868)\n",
      "          Predict: 5.1\n",
      "        Else (feature 6 > 2.203960628138142)\n",
      "         Predict: 6.0\n",
      "       Else (feature 6 > 2.507955197536506)\n",
      "        If (feature 9 <= 3.451185184398477)\n",
      "         Predict: 6.0\n",
      "        Else (feature 9 > 3.451185184398477)\n",
      "         If (feature 9 <= 6.931867651016445)\n",
      "          Predict: 5.0476190476190474\n",
      "         Else (feature 9 > 6.931867651016445)\n",
      "          Predict: 5.6\n",
      "  Else (feature 10 > 9.876438238670273)\n",
      "   If (feature 9 <= 3.8051529226677063)\n",
      "    If (feature 1 <= 4.844752838587366)\n",
      "     If (feature 1 <= 1.7452279534013937)\n",
      "      If (feature 9 <= 3.628169229350762)\n",
      "       If (feature 5 <= 2.151019345592987)\n",
      "        If (feature 0 <= 5.944530350035411)\n",
      "         If (feature 8 <= 20.694819911530146)\n",
      "          Predict: 6.333333333333333\n",
      "         Else (feature 8 > 20.694819911530146)\n",
      "          Predict: 6.0\n",
      "        Else (feature 0 > 5.944530350035411)\n",
      "         Predict: 5.0\n",
      "       Else (feature 5 > 2.151019345592987)\n",
      "        If (feature 1 <= 1.256564134770899)\n",
      "         Predict: 6.0\n",
      "        Else (feature 1 > 1.256564134770899)\n",
      "         Predict: 7.0\n",
      "      Else (feature 9 > 3.628169229350762)\n",
      "       If (feature 0 <= 5.772225285233562)\n",
      "        If (feature 0 <= 4.795828822535938)\n",
      "         Predict: 7.0\n",
      "        Else (feature 0 > 4.795828822535938)\n",
      "         Predict: 8.0\n",
      "       Else (feature 0 > 5.772225285233562)\n",
      "        Predict: 6.0\n",
      "     Else (feature 1 > 1.7452279534013937)\n",
      "      If (feature 4 <= 1.2217067966689532)\n",
      "       If (feature 7 <= 526.22870896522)\n",
      "        If (feature 0 <= 3.704562453572976)\n",
      "         Predict: 6.0\n",
      "        Else (feature 0 > 3.704562453572976)\n",
      "         Predict: 5.0\n",
      "       Else (feature 7 > 526.22870896522)\n",
      "        If (feature 8 <= 21.40731693247642)\n",
      "         Predict: 4.0\n",
      "        Else (feature 8 > 21.40731693247642)\n",
      "         If (feature 1 <= 4.007043387667116)\n",
      "          Predict: 5.0625\n",
      "         Else (feature 1 > 4.007043387667116)\n",
      "          Predict: 6.0\n",
      "      Else (feature 4 > 1.2217067966689532)\n",
      "       If (feature 10 <= 10.74443847261986)\n",
      "        If (feature 9 <= 3.451185184398477)\n",
      "         If (feature 3 <= 1.0284212579056744)\n",
      "          Predict: 6.5\n",
      "         Else (feature 3 > 1.0284212579056744)\n",
      "          Predict: 5.355555555555555\n",
      "        Else (feature 9 > 3.451185184398477)\n",
      "         If (feature 3 <= 3.670400003018962)\n",
      "          Predict: 5.818181818181818\n",
      "         Else (feature 3 > 3.670400003018962)\n",
      "          Predict: 7.0\n",
      "       Else (feature 10 > 10.74443847261986)\n",
      "        If (feature 9 <= 3.097217446129248)\n",
      "         If (feature 0 <= 4.1066078786490765)\n",
      "          Predict: 5.555555555555555\n",
      "         Else (feature 0 > 4.1066078786490765)\n",
      "          Predict: 7.0\n",
      "        Else (feature 9 > 3.097217446129248)\n",
      "         If (feature 10 <= 11.49514178883123)\n",
      "          Predict: 6.04\n",
      "         Else (feature 10 > 11.49514178883123)\n",
      "          Predict: 6.5\n",
      "    Else (feature 1 > 4.844752838587366)\n",
      "     If (feature 4 <= 1.2642009536893233)\n",
      "      If (feature 7 <= 527.3334412983384)\n",
      "       Predict: 6.0\n",
      "      Else (feature 7 > 527.3334412983384)\n",
      "       Predict: 5.0\n",
      "     Else (feature 4 > 1.2642009536893233)\n",
      "      If (feature 3 <= 1.3121236593020829)\n",
      "       Predict: 5.0\n",
      "      Else (feature 3 > 1.3121236593020829)\n",
      "       If (feature 4 <= 2.974590516516771)\n",
      "        If (feature 2 <= 0.0256672006955077)\n",
      "         If (feature 0 <= 3.6471274319723594)\n",
      "          Predict: 4.0\n",
      "         Else (feature 0 > 3.6471274319723594)\n",
      "          Predict: 3.0\n",
      "        Else (feature 2 > 0.0256672006955077)\n",
      "         Predict: 4.0\n",
      "       Else (feature 4 > 2.974590516516771)\n",
      "        Predict: 5.0\n",
      "   Else (feature 9 > 3.8051529226677063)\n",
      "    If (feature 10 <= 10.838276722736735)\n",
      "     If (feature 1 <= 2.192006299485876)\n",
      "      If (feature 8 <= 21.148227106677773)\n",
      "       If (feature 9 <= 3.864147662924358)\n",
      "        If (feature 0 <= 5.829660306834178)\n",
      "         Predict: 7.0\n",
      "        Else (feature 0 > 5.829660306834178)\n",
      "         Predict: 8.0\n",
      "       Else (feature 9 > 3.864147662924358)\n",
      "        If (feature 7 <= 527.1903776637698)\n",
      "         If (feature 1 <= 2.0942735440816724)\n",
      "          Predict: 7.0\n",
      "         Else (feature 1 > 2.0942735440816724)\n",
      "          Predict: 8.0\n",
      "        Else (feature 7 > 527.1903776637698)\n",
      "         If (feature 0 <= 5.71478998976116)\n",
      "          Predict: 6.25\n",
      "         Else (feature 0 > 5.71478998976116)\n",
      "          Predict: 6.75\n",
      "      Else (feature 8 > 21.148227106677773)\n",
      "       If (feature 8 <= 21.99027058482055)\n",
      "        If (feature 7 <= 528.9415333973666)\n",
      "         If (feature 8 <= 21.666406758275066)\n",
      "          Predict: 5.944444444444445\n",
      "         Else (feature 8 > 21.666406758275066)\n",
      "          Predict: 5.375\n",
      "        Else (feature 7 > 528.9415333973666)\n",
      "         Predict: 7.0\n",
      "       Else (feature 8 > 21.99027058482055)\n",
      "        If (feature 2 <= 1.3090272402517815)\n",
      "         If (feature 0 <= 3.5322571148993407)\n",
      "          Predict: 5.0\n",
      "         Else (feature 0 > 3.5322571148993407)\n",
      "          Predict: 6.0\n",
      "        Else (feature 2 > 1.3090272402517815)\n",
      "         If (feature 4 <= 1.582907131342099)\n",
      "          Predict: 7.0\n",
      "         Else (feature 4 > 1.582907131342099)\n",
      "          Predict: 6.0\n",
      "     Else (feature 1 > 2.192006299485876)\n",
      "      If (feature 4 <= 2.5602725053560436)\n",
      "       If (feature 8 <= 18.94596204309211)\n",
      "        Predict: 5.0\n",
      "       Else (feature 8 > 18.94596204309211)\n",
      "        If (feature 6 <= 3.085544879393398)\n",
      "         If (feature 1 <= 2.6387846455703583)\n",
      "          Predict: 5.793103448275862\n",
      "         Else (feature 1 > 2.6387846455703583)\n",
      "          Predict: 6.078431372549019\n",
      "        Else (feature 6 > 3.085544879393398)\n",
      "         Predict: 5.0\n",
      "      Else (feature 4 > 2.5602725053560436)\n",
      "       If (feature 0 <= 3.704562453572976)\n",
      "        Predict: 4.0\n",
      "       Else (feature 0 > 3.704562453572976)\n",
      "        Predict: 5.0\n",
      "    Else (feature 10 > 10.838276722736735)\n",
      "     If (feature 0 <= 7.437842281010367)\n",
      "      If (feature 10 <= 11.776655644273978)\n",
      "       If (feature 8 <= 21.79595167117439)\n",
      "        If (feature 10 <= 11.119790130725544)\n",
      "         If (feature 6 <= 0.5319904964471376)\n",
      "          Predict: 7.333333333333333\n",
      "         Else (feature 6 > 0.5319904964471376)\n",
      "          Predict: 6.8125\n",
      "        Else (feature 10 > 11.119790130725544)\n",
      "         If (feature 9 <= 4.631077703901797)\n",
      "          Predict: 6.421052631578948\n",
      "         Else (feature 9 > 4.631077703901797)\n",
      "          Predict: 6.916666666666667\n",
      "       Else (feature 8 > 21.79595167117439)\n",
      "        If (feature 6 <= 1.048781264424357)\n",
      "         If (feature 2 <= 0.0256672006955077)\n",
      "          Predict: 6.0\n",
      "         Else (feature 2 > 0.0256672006955077)\n",
      "          Predict: 7.0\n",
      "        Else (feature 6 > 1.048781264424357)\n",
      "         If (feature 0 <= 5.083004204410807)\n",
      "          Predict: 6.0\n",
      "         Else (feature 0 > 5.083004204410807)\n",
      "          Predict: 5.0\n",
      "      Else (feature 10 > 11.776655644273978)\n",
      "       If (feature 9 <= 3.92314240318101)\n",
      "        If (feature 1 <= 3.253104798619937)\n",
      "         Predict: 6.0\n",
      "        Else (feature 1 > 3.253104798619937)\n",
      "         Predict: 7.0\n",
      "       Else (feature 9 > 3.92314240318101)\n",
      "        If (feature 2 <= 0.0770016020865231)\n",
      "         If (feature 1 <= 2.1501207853303868)\n",
      "          Predict: 6.0\n",
      "         Else (feature 1 > 2.1501207853303868)\n",
      "          Predict: 7.0\n",
      "        Else (feature 2 > 0.0770016020865231)\n",
      "         If (feature 0 <= 4.56608859919758)\n",
      "          Predict: 7.5\n",
      "         Else (feature 0 > 4.56608859919758)\n",
      "          Predict: 7.0\n",
      "     Else (feature 0 > 7.437842281010367)\n",
      "      If (feature 3 <= 3.0852639005418867)\n",
      "       Predict: 6.0\n",
      "      Else (feature 3 > 3.0852639005418867)\n",
      "       Predict: 5.0\n",
      "\n"
     ]
    }
   ],
   "source": [
    "from pyspark.ml import Pipeline\n",
    "from pyspark.ml.regression import DecisionTreeRegressor\n",
    "from pyspark.ml.feature import VectorIndexer\n",
    "from pyspark.ml.evaluation import RegressionEvaluator\n",
    "from pyspark.ml.feature import VectorAssembler\n",
    "\n",
    "# Definir un vector de ensamblado para que las variables de entrada se queden en una sola \"features\" --> features2\"\n",
    "vectorizer = VectorAssembler()\n",
    "vectorizer.setInputCols([\"features\"])\n",
    "vectorizer.setOutputCol(\"features2\")\n",
    "\n",
    "# Definir molelo de arbol de regresión\n",
    "dt = DecisionTreeRegressor()\n",
    "\n",
    "# Definir los parametros del modelo:\n",
    "# - prediction: columna que almacenará las predicciones estimadas\n",
    "# - features2: columna que almacena el vector de variables predictoras\n",
    "# - label: columna que almacena la predicción real \n",
    "# - 8 niveles de profundidad\n",
    "dt.setPredictionCol(\"prediction\").setMaxBins(100).setFeaturesCol(\"features2\").setLabelCol(\"label\").setMaxDepth(8)\n",
    "# Crear una 'pipeline' en la cual hay 2 elementos, un 'Vector Assembler' y un modelo 'Decision Tree', accesibles mediante el atributo 'stages'.\n",
    "pipeline = Pipeline(stages=[vectorizer, dt])\n",
    "\n",
    "# Ajustar el modelo (Ejecutar)\n",
    "modelo2 = pipeline.fit(train)\n",
    "\n",
    "# Visualizar los resultados\n",
    "vectAssembler = modelo2.stages[0]\n",
    "dtModel = modelo2.stages[1]\n",
    "\n",
    "print(\"------------------------------------------------------------------------------\")\n",
    "print(\"ENTRENAMIENTO: Métricas del modelo2\")\n",
    "print(\"------------------------------------------------------------------------------\")\n",
    "print(\" - Nodos: \" + str(dtModel.numNodes))\n",
    "print(\" - Profundidad: \"+ str(dtModel.depth)) \n",
    "#print(\" - RSME:\", modelo1.summary.rootMeanSquaredError)\n",
    "#print(\" - r2:\", modelo1.summary.r2)\n",
    "\n",
    "print(\"\\nDatos descriptivos de variable a predecir: 'quality':\")\n",
    "train.describe('label').show()\n",
    "\n",
    "print(\"\\nModelo del Árbol de Decisión:\")\n",
    "print(dtModel.toDebugString)\n"
   ]
  },
  {
   "cell_type": "markdown",
   "metadata": {},
   "source": [
    "# Evaluación de conjunto de validación\n",
    "* Para cada uno de los modelos se espera que los estudiantes los evalúen y generen una predicción persistente en base de datos. Como evaluaremos dos modelos deberá crearse tablas llamadas modelo1 y modelo2 (con overwrite) en la base de datos, que tendrán las mismas columnas que tarea3 con una adicional llamada prediccion , que mostrará el resultado predicho de cada modelo.\n",
    "\n",
    "* Además, deberá mostrarse un análisis de resultados dentro del notebook para cada modelo, comparando los resultados de cada uno.\n",
    ">* Evaluación y almacenado de modelo1 (10 puntos)\n",
    ">* Evaluación y almacenado de modelo2 (10 puntos)\n",
    ">* Análisis de resultados (10 puntos)"
   ]
  },
  {
   "cell_type": "markdown",
   "metadata": {},
   "source": [
    "## Evaluación y almacenado de modelo1 (10 puntos)\n",
    "* La predicción generada debe persistirse en base de datos: en tabla llamadas modelo1"
   ]
  },
  {
   "cell_type": "code",
   "execution_count": 15,
   "metadata": {},
   "outputs": [
    {
     "name": "stdout",
     "output_type": "stream",
     "text": [
      "------------------------------------------------------\n",
      "Datos de predicción del modelo1:\n",
      "------------------------------------------------------\n",
      "+--------------------+-------+------------------+\n",
      "|            features|quality|        prediction|\n",
      "+--------------------+-------+------------------+\n",
      "|[2.87175381874868...|      6| 6.647925053730196|\n",
      "|[2.87175381874868...|      4| 4.914666696972239|\n",
      "|[2.87175381874868...|      5| 5.189643085468303|\n",
      "|[2.98662386194991...|      6| 6.994635426469853|\n",
      "|[2.98662386194991...|      7| 6.019101702754239|\n",
      "|[2.98662386194991...|      6| 5.930234312605193|\n",
      "|[3.21636422222416...|      5| 6.216495128776003|\n",
      "|[3.21636422222416...|      5| 6.182585603298461|\n",
      "|[3.21636422222416...|      5| 5.464641439444588|\n",
      "|[3.3886695608978,...|      6| 6.363978871018263|\n",
      "|[3.3886695608978,...|      6|5.8697264634341275|\n",
      "|[3.44610458249841...|      6| 6.087974429834766|\n",
      "|[3.50353960409903...|      5| 5.509133495158596|\n",
      "|[3.50353960409903...|      5| 6.166209585017356|\n",
      "|[3.50353960409903...|      5| 5.419615952417428|\n",
      "|[3.50353960409903...|      6| 5.590942783445685|\n",
      "|[3.50353960409903...|      6| 5.798550622253533|\n",
      "|[3.56097462569964...|      6|   6.0161476384573|\n",
      "|[3.56097462569964...|      5| 5.851450776194994|\n",
      "|[3.56097462569964...|      5| 5.562739057761405|\n",
      "+--------------------+-------+------------------+\n",
      "only showing top 20 rows\n",
      "\n",
      "------------------------------------------------------------------------------\n",
      "EVALUACIÓN: Métricas del modelo1:\n",
      "------------------------------------------------------------------------------\n",
      " - RMSE: 0.6317227410503391\n",
      " - r2: 0.3638212659268274\n",
      "------------------------------------------------------\n",
      "Almacenado de datos de predicción del modelo1:\n",
      "------------------------------------------------------\n",
      "Datos almacenados exitosamente en tabla 'modelo1'\n",
      "\n",
      "------------------------------------------------------------\n",
      "Selecciona y muestra datos almacenados en tabla modelo1:\n",
      "------------------------------------------------------------\n",
      "+-------------+----------------+-----------+--------------+---------+-------------------+--------------------+-------+----+---------+-------+-------+------------------+\n",
      "|fixed acidity|volatile acidity|citric acid|residual sugar|chlorides|free sulfur dioxide|total sulfur dioxide|density|  pH|sulphates|alcohol|quality|        prediction|\n",
      "+-------------+----------------+-----------+--------------+---------+-------------------+--------------------+-------+----+---------+-------+-------+------------------+\n",
      "|          5.0|             0.4|        0.5|           4.3|    0.046|               29.0|                80.0| 0.9902|3.49|     0.66|   13.6|      6| 6.647925053730196|\n",
      "|          5.0|            1.02|       0.04|           1.4|    0.045|               41.0|                85.0| 0.9938|3.75|     0.48|   10.5|      4| 4.914666696972239|\n",
      "|          5.0|            1.04|       0.24|           1.6|     0.05|               32.0|                96.0| 0.9934|3.74|     0.62|   11.5|      5| 5.189643085468303|\n",
      "|          5.2|            0.34|        0.0|           1.8|     0.05|               27.0|                63.0| 0.9916|3.68|     0.79|   14.0|      6| 6.994635426469853|\n",
      "|          5.2|            0.48|       0.04|           1.6|    0.054|               19.0|               106.0| 0.9927|3.54|     0.62|   12.2|      7| 6.019101702754239|\n",
      "|          5.2|            0.49|       0.26|           2.3|     0.09|               23.0|                74.0| 0.9953|3.71|     0.62|   12.2|      6| 5.930234312605193|\n",
      "|          5.6|           0.605|       0.05|           2.4|    0.073|               19.0|                25.0|0.99258|3.56|     0.55|   12.9|      5| 6.216495128776003|\n",
      "|          5.6|            0.66|        0.0|           2.5|    0.066|                7.0|                15.0|0.99256|3.52|     0.58|   12.9|      5| 6.182585603298461|\n",
      "|          5.6|           0.915|        0.0|           2.1|    0.041|               17.0|                78.0|0.99346|3.68|     0.73|   11.4|      5| 5.464641439444588|\n",
      "|          5.9|           0.395|       0.13|           2.4|    0.056|               14.0|                28.0|0.99362|3.62|     0.67|   12.4|      6| 6.363978871018263|\n",
      "|          5.9|            0.61|       0.08|           2.1|    0.071|               16.0|                24.0|0.99376|3.56|     0.77|   11.1|      6|5.8697264634341275|\n",
      "|          6.0|            0.51|        0.0|           2.1|    0.064|               40.0|                54.0|  0.995|3.54|     0.93|   10.7|      6| 6.087974429834766|\n",
      "|          6.1|            0.32|       0.25|           1.8|    0.086|                5.0|                32.0|0.99464|3.36|     0.44|   10.1|      5| 5.509133495158596|\n",
      "|          6.1|            0.32|       0.25|           2.3|    0.071|               23.0|                58.0|0.99633|3.42|     0.97|   10.6|      5| 6.166209585017356|\n",
      "|          6.1|            0.38|       0.15|           1.8|    0.072|                6.0|                19.0| 0.9955|3.42|     0.57|    9.4|      5| 5.419615952417428|\n",
      "|          6.1|            0.53|       0.08|           1.9|    0.077|               24.0|                45.0|0.99528| 3.6|     0.68|   10.3|      6| 5.590942783445685|\n",
      "|          6.1|            0.56|        0.0|           2.2|    0.079|                6.0|                 9.0| 0.9948|3.59|     0.54|   11.5|      6| 5.798550622253533|\n",
      "|          6.2|            0.36|       0.24|           2.2|    0.095|               19.0|                42.0| 0.9946|3.57|     0.57|   11.7|      6|   6.0161476384573|\n",
      "|          6.2|            0.46|       0.17|           1.6|    0.073|                7.0|                11.0|0.99425|3.61|     0.54|   11.4|      5| 5.851450776194994|\n",
      "|          6.2|             0.6|       0.08|           2.0|     0.09|               32.0|                44.0| 0.9949|3.45|     0.58|   10.5|      5| 5.562739057761405|\n",
      "+-------------+----------------+-----------+--------------+---------+-------------------+--------------------+-------+----+---------+-------+-------+------------------+\n",
      "only showing top 20 rows\n",
      "\n"
     ]
    }
   ],
   "source": [
    "#Predicción del modelo\n",
    "print(\"------------------------------------------------------\")\n",
    "print(\"Datos de predicción del modelo1:\")\n",
    "print(\"------------------------------------------------------\")\n",
    "predictions = modelo1.transform(test)\n",
    "predictions.select('features','quality', 'prediction').show()\n",
    "\n",
    "print(\"------------------------------------------------------------------------------\")\n",
    "print(\"EVALUACIÓN: Métricas del modelo1:\")\n",
    "print(\"------------------------------------------------------------------------------\")\n",
    "# Evaluación del modelo:\n",
    "from pyspark.ml.evaluation import RegressionEvaluator\n",
    "# Evaluación mediante el metodo de regresion\n",
    "regEval = RegressionEvaluator(predictionCol=\"prediction\", labelCol=\"label\", metricName=\"rmse\")\n",
    "RMSE_modelo1 = regEval.evaluate(predictions)\n",
    "r2_modelo1 = regEval.evaluate(predictions, {regEval.metricName: \"r2\"})\n",
    "print(\" - RMSE:\", RMSE_modelo1)\n",
    "print(\" - r2:\", r2_modelo1)\n",
    "\n",
    "print(\"------------------------------------------------------\")\n",
    "print(\"Almacenado de datos de predicción del modelo1:\")\n",
    "print(\"------------------------------------------------------\")\n",
    "# Almacenar los datos de la predicción en la base de datos\n",
    "# Tabla: modelo2\n",
    "predictions.select('fixed acidity','volatile acidity','citric acid','residual sugar','chlorides',\n",
    "               'free sulfur dioxide','total sulfur dioxide','density','pH','sulphates',\n",
    "               'alcohol','quality', 'prediction') \\\n",
    "    .write \\\n",
    "    .mode(\"overwrite\") \\\n",
    "    .format(\"jdbc\") \\\n",
    "    .option(\"url\", \"jdbc:postgresql://localhost/test\") \\\n",
    "    .option(\"user\", \"postgres\") \\\n",
    "    .option(\"password\", \"Nuevo123*\") \\\n",
    "    .option(\"dbtable\", \"modelo1\") \\\n",
    "    .save()\n",
    "print(\"Datos almacenados exitosamente en tabla 'modelo1'\")\n",
    "      \n",
    "print(\"\\n------------------------------------------------------------\")\n",
    "print(\"Selecciona y muestra datos almacenados en tabla modelo1:\")\n",
    "print(\"------------------------------------------------------------\")\n",
    "# Reading single DataFrame in Spark by retrieving all rows from a DB table.\n",
    "df_modelo1 = spark \\\n",
    "    .read \\\n",
    "    .format(\"jdbc\") \\\n",
    "    .option(\"url\", \"jdbc:postgresql://localhost/test\") \\\n",
    "    .option(\"user\", \"postgres\") \\\n",
    "    .option(\"password\", \"Nuevo123*\") \\\n",
    "    .option(\"dbtable\", \"modelo1\") \\\n",
    "    .option(\"top\", \"10\") \\\n",
    "    .load()\n",
    "\n",
    "df_modelo1.show()\n"
   ]
  },
  {
   "cell_type": "markdown",
   "metadata": {},
   "source": [
    "## Evaluación y almacenado de modelo2 (10 puntos)\n",
    "* La predicción generada debe persistirse en base de datos: en tabla llamadas modelo2"
   ]
  },
  {
   "cell_type": "code",
   "execution_count": 16,
   "metadata": {},
   "outputs": [
    {
     "name": "stdout",
     "output_type": "stream",
     "text": [
      "------------------------------------------------------\n",
      "Datos de predicción del modelo2:\n",
      "------------------------------------------------------\n",
      "+--------------------+-------+------------------+\n",
      "|            features|quality|        prediction|\n",
      "+--------------------+-------+------------------+\n",
      "|[2.87175381874868...|      6|               6.0|\n",
      "|[2.87175381874868...|      4|               4.0|\n",
      "|[2.87175381874868...|      5|               6.0|\n",
      "|[2.98662386194991...|      6|               6.0|\n",
      "|[2.98662386194991...|      7|               6.0|\n",
      "|[2.98662386194991...|      6|              6.04|\n",
      "|[3.21636422222416...|      5|               6.5|\n",
      "|[3.21636422222416...|      5|               6.5|\n",
      "|[3.21636422222416...|      5| 6.078431372549019|\n",
      "|[3.3886695608978,...|      6|               7.0|\n",
      "|[3.3886695608978,...|      6| 6.078431372549019|\n",
      "|[3.44610458249841...|      6| 6.078431372549019|\n",
      "|[3.50353960409903...|      5| 5.613636363636363|\n",
      "|[3.50353960409903...|      5|               5.0|\n",
      "|[3.50353960409903...|      5|             5.075|\n",
      "|[3.50353960409903...|      6|4.9523809523809526|\n",
      "|[3.50353960409903...|      6|              6.04|\n",
      "|[3.56097462569964...|      6|              6.04|\n",
      "|[3.56097462569964...|      5| 5.355555555555555|\n",
      "|[3.56097462569964...|      5| 5.567251461988304|\n",
      "+--------------------+-------+------------------+\n",
      "only showing top 20 rows\n",
      "\n",
      "------------------------------------------------------------------------------\n",
      "EVALUACIÓN: Métricas del modelo2:\n",
      "------------------------------------------------------------------------------\n",
      " - RMSE: 0.7043723626738814\n",
      " - r2: 0.2090833103547277\n",
      "------------------------------------------------------\n",
      "Almacenado de datos de predicción del modelo2:\n",
      "------------------------------------------------------\n",
      "Datos almacenados exitosamente en tabla 'modelo2'\n",
      "\n",
      "------------------------------------------------------------\n",
      "Selecciona y muestra datos almacenados en tabla modelo2:\n",
      "------------------------------------------------------------\n",
      "+-------------+----------------+-----------+--------------+---------+-------------------+--------------------+-------+----+---------+-------+-------+------------------+\n",
      "|fixed acidity|volatile acidity|citric acid|residual sugar|chlorides|free sulfur dioxide|total sulfur dioxide|density|  pH|sulphates|alcohol|quality|        prediction|\n",
      "+-------------+----------------+-----------+--------------+---------+-------------------+--------------------+-------+----+---------+-------+-------+------------------+\n",
      "|          5.0|             0.4|        0.5|           4.3|    0.046|               29.0|                80.0| 0.9902|3.49|     0.66|   13.6|      6|               6.0|\n",
      "|          5.0|            1.02|       0.04|           1.4|    0.045|               41.0|                85.0| 0.9938|3.75|     0.48|   10.5|      4|               4.0|\n",
      "|          5.0|            1.04|       0.24|           1.6|     0.05|               32.0|                96.0| 0.9934|3.74|     0.62|   11.5|      5|               6.0|\n",
      "|          5.2|            0.34|        0.0|           1.8|     0.05|               27.0|                63.0| 0.9916|3.68|     0.79|   14.0|      6|               6.0|\n",
      "|          5.2|            0.48|       0.04|           1.6|    0.054|               19.0|               106.0| 0.9927|3.54|     0.62|   12.2|      7|               6.0|\n",
      "|          5.2|            0.49|       0.26|           2.3|     0.09|               23.0|                74.0| 0.9953|3.71|     0.62|   12.2|      6|              6.04|\n",
      "|          5.6|           0.605|       0.05|           2.4|    0.073|               19.0|                25.0|0.99258|3.56|     0.55|   12.9|      5|               6.5|\n",
      "|          5.6|            0.66|        0.0|           2.5|    0.066|                7.0|                15.0|0.99256|3.52|     0.58|   12.9|      5|               6.5|\n",
      "|          5.6|           0.915|        0.0|           2.1|    0.041|               17.0|                78.0|0.99346|3.68|     0.73|   11.4|      5| 6.078431372549019|\n",
      "|          5.9|           0.395|       0.13|           2.4|    0.056|               14.0|                28.0|0.99362|3.62|     0.67|   12.4|      6|               7.0|\n",
      "|          5.9|            0.61|       0.08|           2.1|    0.071|               16.0|                24.0|0.99376|3.56|     0.77|   11.1|      6| 6.078431372549019|\n",
      "|          6.0|            0.51|        0.0|           2.1|    0.064|               40.0|                54.0|  0.995|3.54|     0.93|   10.7|      6| 6.078431372549019|\n",
      "|          6.1|            0.32|       0.25|           1.8|    0.086|                5.0|                32.0|0.99464|3.36|     0.44|   10.1|      5| 5.613636363636363|\n",
      "|          6.1|            0.32|       0.25|           2.3|    0.071|               23.0|                58.0|0.99633|3.42|     0.97|   10.6|      5|               5.0|\n",
      "|          6.1|            0.38|       0.15|           1.8|    0.072|                6.0|                19.0| 0.9955|3.42|     0.57|    9.4|      5|             5.075|\n",
      "|          6.1|            0.53|       0.08|           1.9|    0.077|               24.0|                45.0|0.99528| 3.6|     0.68|   10.3|      6|4.9523809523809526|\n",
      "|          6.1|            0.56|        0.0|           2.2|    0.079|                6.0|                 9.0| 0.9948|3.59|     0.54|   11.5|      6|              6.04|\n",
      "|          6.2|            0.36|       0.24|           2.2|    0.095|               19.0|                42.0| 0.9946|3.57|     0.57|   11.7|      6|              6.04|\n",
      "|          6.2|            0.46|       0.17|           1.6|    0.073|                7.0|                11.0|0.99425|3.61|     0.54|   11.4|      5| 5.355555555555555|\n",
      "|          6.2|             0.6|       0.08|           2.0|     0.09|               32.0|                44.0| 0.9949|3.45|     0.58|   10.5|      5| 5.567251461988304|\n",
      "+-------------+----------------+-----------+--------------+---------+-------------------+--------------------+-------+----+---------+-------+-------+------------------+\n",
      "only showing top 20 rows\n",
      "\n"
     ]
    }
   ],
   "source": [
    "#Predicción del modelo\n",
    "print(\"------------------------------------------------------\")\n",
    "print(\"Datos de predicción del modelo2:\")\n",
    "print(\"------------------------------------------------------\")\n",
    "predictions = modelo2.transform(test)\n",
    "predictions.select('features','quality', 'prediction').show()\n",
    "\n",
    "print(\"------------------------------------------------------------------------------\")\n",
    "print(\"EVALUACIÓN: Métricas del modelo2:\")\n",
    "print(\"------------------------------------------------------------------------------\")\n",
    "# Evaluación del modelo:\n",
    "from pyspark.ml.evaluation import RegressionEvaluator\n",
    "# Evaluación mediante el metodo de regresion\n",
    "regEval = RegressionEvaluator(predictionCol=\"prediction\", labelCol=\"label\", metricName=\"rmse\")\n",
    "RMSE_modelo2 = regEval.evaluate(predictions)\n",
    "r2_modelo2 = regEval.evaluate(predictions, {regEval.metricName: \"r2\"})\n",
    "print(\" - RMSE:\", RMSE_modelo2)\n",
    "print(\" - r2:\", r2_modelo2)\n",
    "\n",
    "print(\"------------------------------------------------------\")\n",
    "print(\"Almacenado de datos de predicción del modelo2:\")\n",
    "print(\"------------------------------------------------------\")\n",
    "# Almacenar los datos de la predicción en la base de datos\n",
    "# Tabla: modelo2\n",
    "predictions.select('fixed acidity','volatile acidity','citric acid','residual sugar','chlorides',\n",
    "               'free sulfur dioxide','total sulfur dioxide','density','pH','sulphates',\n",
    "               'alcohol','quality', 'prediction') \\\n",
    "    .write \\\n",
    "    .mode(\"overwrite\") \\\n",
    "    .format(\"jdbc\") \\\n",
    "    .option(\"url\", \"jdbc:postgresql://localhost/test\") \\\n",
    "    .option(\"user\", \"postgres\") \\\n",
    "    .option(\"password\", \"Nuevo123*\") \\\n",
    "    .option(\"dbtable\", \"modelo2\") \\\n",
    "    .save()\n",
    "print(\"Datos almacenados exitosamente en tabla 'modelo2'\")\n",
    "\n",
    "print(\"\\n------------------------------------------------------------\")\n",
    "print(\"Selecciona y muestra datos almacenados en tabla modelo2:\")\n",
    "print(\"------------------------------------------------------------\")\n",
    "# Reading single DataFrame in Spark by retrieving all rows from a DB table.\n",
    "df_modelo2 = spark \\\n",
    "    .read \\\n",
    "    .format(\"jdbc\") \\\n",
    "    .option(\"url\", \"jdbc:postgresql://localhost/test\") \\\n",
    "    .option(\"user\", \"postgres\") \\\n",
    "    .option(\"password\", \"Nuevo123*\") \\\n",
    "    .option(\"dbtable\", \"modelo2\") \\\n",
    "    .option(\"top\", \"10\") \\\n",
    "    .load()\n",
    "\n",
    "df_modelo2.show()\n"
   ]
  },
  {
   "cell_type": "markdown",
   "metadata": {},
   "source": [
    "## Análisis de resultados (10 puntos)\n",
    "\n",
    "### Introducción Teórica \n",
    "#### (Tomado de http://ligdigonzalez.com/evaluando-el-error-en-los-modelos-de-regresion/)\n",
    "\n",
    "Con un modelo de regresión, predecimos o estimamos el valor numérico de una cantidad desconocida, de acuerdo con unas características dadas. La diferencia entre la predicción y el valor real es el error, este es una variable aleatoria, que puede depender de las características dadas.\n",
    "\n",
    "En la actualidad hay algunas formas para estimar el rendimiento y evaluar el ajuste del modelo, algunas de ellas son: el error cuadrático medio (RMSE, por sus siglas en inglés, root mean squared error), error absoluto medio (MAE, mean absolute error), R-cuadrado. Comencemos a explicar cada unas de ellas para entenderlas mejor.\n",
    "\n",
    "\n",
    "### Análisis\n",
    "\n",
    "Para los efectos de este análisis se utilizarán los valores de RMSE y r2 obtenidos para modelo1 y modelo2.\n",
    "\n",
    "- <strong>RMSE (Root Mean Squared Error - \"Error cuadrático medio\"):</strong>\n",
    "Crea un valor único que resume el error en el modelo. Al elevar al cuadrado la diferencia, la métrica ignora la diferencia entre predicción excesiva y predicción insuficiente.\n",
    "\n",
    "\n",
    "- <strong>r2 (Coefficient of determination - \"R-cuadrado\"):</strong>\n",
    "R-cuadrado representa el poder predictivo del modelo como un número entre 0 y 1.\n",
    "Un valor de 1 indicaría que el modelo se ajusta perfectamente, mientras que 0 indica que el modelo no tiene poder predictivo alguno.\n",
    "\n",
    "Se analizará los resultados para ambos modelos de predicción:\n",
    "1. LinearRegresion (modelo1)\n",
    "2. DecisionTreeRegressor (modelo2)\n",
    "\n",
    "A continuación se muestra el resultado obtenido de cada modelo por separado y luego se realiza una comparación entre ambos:\n",
    "\n",
    "* <strong>modelo1 - LinearRegresion:</strong>\n",
    "* <strong>modelo2 - DecisionTreeRegressor:</strong>\n",
    "* <strong>Comparación: modelo1 (LinearRegresion) VERSUS modelo2 (DecisionTreeRegressor):</strong>\n",
    "\n",
    "### Conclusiones:\n",
    "\n",
    "Se nota que tanto el modelo1 como el modelo2 elegidos (LinearRegresion y DecisionTreeRegressor respectivamente) no logran obtener valores para RMSE y r2 aceptables si estos se quisieran utilizar en la vida real, pero para los efectos didácticos de esta tarea se realiza el análisis con el resultado obtenido.\n",
    "En la vida real y tal como se ha visto en clase, este sería un proceso de \"prueba y error\" donde con la aplicacicón de la experimentación en un proceso de ciencia de datos se podría llegar a un modelo que arroje resultados de error y potencia de predicción aceptables para los efectos buscados.\n",
    "En este caso, y tomando en cuenta los valores RSME y r2, el modelo que mejor resultado dio fue la regresión lineal para ambas variables."
   ]
  },
  {
   "cell_type": "code",
   "execution_count": 17,
   "metadata": {
    "scrolled": true
   },
   "outputs": [
    {
     "name": "stdout",
     "output_type": "stream",
     "text": [
      "------------------------------------\n",
      "modelo1 - LinearRegresion:\n",
      "------------------------------------\n",
      "RMSE (modelo1): 0.6317227410503391\n",
      "r2 (modelo1):   0.3638212659268274\n",
      "\n",
      "------------------------------------\n",
      "modelo2 - DecisionTreeRegressor:\n",
      "------------------------------------\n",
      "RMSE (modelo2): 0.7043723626738814\n",
      "r2 (modelo2):   0.2090833103547277\n",
      "\n",
      "--------------------------------------------------------------------------------\n",
      "Comparación: modelo1 (LinearRegresion) VERSUS modelo2 (DecisionTreeRegressor):\n",
      "--------------------------------------------------------------------------------\n",
      "* Según RMSE obtenidos de este ejercicio, el mejor modelo es:\n",
      "   modelo1 (LinearRegresion)\n",
      "\n",
      "* Según r2 obtenidos de este ejercicio, el mejor modelo es:\n",
      "   modelo1 (LinearRegresion)\n"
     ]
    }
   ],
   "source": [
    "print(\"------------------------------------\")\n",
    "print(\"modelo1 - LinearRegresion:\")\n",
    "print(\"------------------------------------\")\n",
    "\n",
    "print(\"RMSE (modelo1):\", RMSE_modelo1)\n",
    "print(\"r2 (modelo1):  \", r2_modelo1)\n",
    "\n",
    "print(\"\\n------------------------------------\")\n",
    "print(\"modelo2 - DecisionTreeRegressor:\")\n",
    "print(\"------------------------------------\")\n",
    "\n",
    "print(\"RMSE (modelo2):\", RMSE_modelo2)\n",
    "print(\"r2 (modelo2):  \", r2_modelo2)\n",
    "\n",
    "print(\"\\n--------------------------------------------------------------------------------\")\n",
    "print(\"Comparación: modelo1 (LinearRegresion) VERSUS modelo2 (DecisionTreeRegressor):\")\n",
    "print(\"--------------------------------------------------------------------------------\")\n",
    "\n",
    "print(\"* Según RMSE obtenidos de este ejercicio, el mejor modelo es:\")\n",
    "if (RMSE_modelo1 < RMSE_modelo2):\n",
    "    print(\"   modelo1 (LinearRegresion)\")\n",
    "else:\n",
    "    print(\"   modelo2 (DecisionTreeRegressor)\")\n",
    "    \n",
    "print(\"\\n* Según r2 obtenidos de este ejercicio, el mejor modelo es:\")\n",
    "if (r2_modelo1 > r2_modelo2):\n",
    "    print(\"   modelo1 (LinearRegresion)\")\n",
    "else:\n",
    "    print(\"   modelo2 (DecisionTreeRegressor)\")\n"
   ]
  }
 ],
 "metadata": {
  "celltoolbar": "Edit Metadata",
  "colab": {
   "name": "BigData-Leccion5.ipynb",
   "provenance": []
  },
  "kernelspec": {
   "display_name": "Python 3",
   "language": "python",
   "name": "python3"
  },
  "language_info": {
   "codemirror_mode": {
    "name": "ipython",
    "version": 3
   },
   "file_extension": ".py",
   "mimetype": "text/x-python",
   "name": "python",
   "nbconvert_exporter": "python",
   "pygments_lexer": "ipython3",
   "version": "3.7.10"
  }
 },
 "nbformat": 4,
 "nbformat_minor": 1
}
